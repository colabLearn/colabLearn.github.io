{
 "cells": [
  {
   "cell_type": "code",
   "execution_count": 2,
   "metadata": {
    "collapsed": true
   },
   "outputs": [],
   "source": [
    "import pandas as pd\n",
    "import numpy as np\n",
    "from numpy import median\n",
    "import matplotlib.pyplot as plt\n",
    "import matplotlib.animation as animation\n",
    "import pylab as pl\n",
    "from IPython import display\n",
    "import time\n",
    "from matplotlib import animation \n",
    "from mpl_toolkits import mplot3d\n",
    "%matplotlib inline\n",
    "plt.style.use('ggplot')\n",
    "from pylab import figure, subplot, hist, xlim, show\n",
    "import psycopg2\n",
    "\n"
   ]
  },
  {
   "cell_type": "code",
   "execution_count": 3,
   "metadata": {
    "collapsed": true
   },
   "outputs": [],
   "source": [
    "def extractWordCounInContrib( groupData ):\n",
    "    group = groupData \n",
    "    group1_1 = pd.DataFrame(group['message'])\n",
    "    group1M_List=group1_1['message'].tolist()\n",
    "\n",
    "    wordCount = []\n",
    "    for x in group1M_List:\n",
    "        if (pd.isnull(x )):\n",
    "            text=0\n",
    "        else:\n",
    "            x = str(x)\n",
    "            text = len(x.split())\n",
    "        \n",
    "        wordCount.append(text) \n",
    "\n",
    "   \n",
    "    group[\"Word Count\"]= wordCount \n",
    "\n",
    "    return group\n",
    "\n"
   ]
  },
  {
   "cell_type": "code",
   "execution_count": 4,
   "metadata": {
    "collapsed": true
   },
   "outputs": [],
   "source": [
    "def getDataFromDatabase(groupName):\n",
    "    conn = psycopg2.connect(database=\"dcr579jl1mh56g\", user = \"tcuceyhvgqlejy\", password = \"2c8288a367bdc38450e89d9fc17b8f1319fac07c140f6bbb5f5339ee7ff984d5\", host = \"ec2-54-83-22-244.compute-1.amazonaws.com\", port = \"5432\")\n",
    "\n",
    "    #print \"Opened database successfully\"\n",
    "\n",
    "    cur = conn.cursor()\n",
    "\n",
    "    cur.execute(\"SELECT * from \"+groupName)\n",
    "    df = pd.DataFrame(cur.fetchall())\n",
    "    df.columns = ['id', 'message', 'time', 'username']\n",
    "    #df.columns = cur.keys()\n",
    "    #rows = cur.fetchall()\n",
    "    #print \"Operation done successfully\";\n",
    "    conn.close()\n",
    "    \n",
    "    df2 = extractWordCounInContrib(df)\n",
    "    return df2\n"
   ]
  },
  {
   "cell_type": "code",
   "execution_count": 5,
   "metadata": {
    "collapsed": true
   },
   "outputs": [],
   "source": [
    "group1_1 = getDataFromDatabase(\"s4group3\")\n",
    "group2_1 = getDataFromDatabase(\"s4group4\")\n",
    "group3_1 = getDataFromDatabase(\"s4group5\")\n",
    "group4_1 = getDataFromDatabase(\"s4group6\")\n",
    "group5_1 = getDataFromDatabase(\"s4group7\")\n",
    "group6_1 = getDataFromDatabase(\"s4group8\")\n",
    "group7_1 = getDataFromDatabase(\"s4group9\")\n",
    "group8_1 = getDataFromDatabase(\"s4group10\")\n",
    "group9_1 = getDataFromDatabase(\"s4group12\")\n",
    "group10_1 = getDataFromDatabase(\"s4group15\")\n"
   ]
  },
  {
   "cell_type": "code",
   "execution_count": 6,
   "metadata": {
    "collapsed": true
   },
   "outputs": [],
   "source": [
    "def getGiniCoef(group, memList):\n",
    "    #for a group of 4 members\n",
    "    #We capture contribution of each of the members\n",
    "    g_m1=group.loc[group['username'] == memList[0]]\n",
    "    g_m2=group.loc[group['username'] == memList[1]]\n",
    "    g_m3=group.loc[group['username'] == memList[2]]\n",
    "    g_m4=group.loc[group['username'] == memList[3]]\n",
    "        \n",
    "    wordCount = medianWordCount(group, memList)\n",
    "\n",
    "    contM1 =g_m1.shape[0]\n",
    "    contM2 =g_m2.shape[0]\n",
    "    contM3 =g_m3.shape[0]\n",
    "    contM4 =g_m4.shape[0]\n",
    "    \n",
    "    \n",
    "    grpWC= [contM1, contM2, contM3, contM4]\n",
    "    \n",
    "    #Mean of members contrubtion\n",
    "    grpMean = np.mean(grpWC)\n",
    "    summ=0\n",
    "    #Caclute gini coeficient measure of symmetry of contributions within group\n",
    "    for i in grpWC:\n",
    "        n=grpWC.index(i)+1    \n",
    "        for j in grpWC[n:]:\n",
    "            summ+=abs(i-j)\n",
    "            \n",
    "    GiniCoefMeasure = summ/(2*(len(grpWC)**2)*grpMean)\n",
    "    \n",
    "    #As gini-coefficient measure range from 1-0 with 0 as perfect symmetry and 1 and total\n",
    "    #assymetry. And our model hypothesize that the more symmetrical the better collaboration\n",
    "    #within group. Therefore giniCoefficient measure is inversely proportional to level of\n",
    "    #collaboration. Here we use the total number of wordcount divided by number of individuals\n",
    "    #in the group as a constant of proportionality, as this stands in proxy for a mesure of \n",
    "    #how much information is shared within group.\n",
    "    \n",
    "    colabMeasure = wordCount/GiniCoefMeasure\n",
    "    \n",
    "    return  colabMeasure\n"
   ]
  },
  {
   "cell_type": "code",
   "execution_count": 7,
   "metadata": {
    "collapsed": true
   },
   "outputs": [],
   "source": [
    "def medianWordCount(group, memList):\n",
    "    \n",
    "    g_m1=group.loc[group['username'] == memList[0]]\n",
    "    g_m2=group.loc[group['username'] == memList[1]]\n",
    "    g_m3=group.loc[group['username'] == memList[2]]\n",
    "    g_m4=group.loc[group['username'] == memList[3]]\n",
    "        \n",
    "    g_m1WC = g_m1['Word Count'].tolist()\n",
    "    g_m2WC = g_m2['Word Count'].tolist()\n",
    "    g_m3WC = g_m3['Word Count'].tolist()\n",
    "    g_m4WC = g_m4['Word Count'].tolist()\n",
    "    \n",
    "    m1WC = sum(g_m1WC)\n",
    "    m2WC = sum(g_m2WC)\n",
    "    m3WC = sum(g_m3WC)\n",
    "    m4WC = sum(g_m4WC)\n",
    "    \n",
    "    grpMWC= [m1WC,m2WC, m3WC, m4WC]\n",
    "    \n",
    "    \n",
    "    return  median(grpMWC)\n"
   ]
  },
  {
   "cell_type": "code",
   "execution_count": 8,
   "metadata": {
    "collapsed": true
   },
   "outputs": [],
   "source": [
    "def withinGroupIndivCon(g, mList):\n",
    "    g_m1=g.loc[g['username'] == mList[0]]\n",
    "    g_m2=g.loc[g['username'] == mList[1]]\n",
    "    g_m3=g.loc[g['username'] == mList[2]]\n",
    "    g_m4=g.loc[g['username'] == mList[3]]\n",
    "    \n",
    "    \n",
    "    m1WC = g_m1['Word Count'].tolist()\n",
    "    m2WC = g_m2['Word Count'].tolist()\n",
    "    m3WC = g_m3['Word Count'].tolist()\n",
    "    m4WC = g_m4['Word Count'].tolist()\n",
    "    \n",
    "    \n",
    "    #   m5WC = g_m4['Word Count'].tolist()\n",
    "    \n",
    "    #gWC = g['Word Count'].tolist()\n",
    "    m1WCT = sum(m1WC)\n",
    "    m2WCT = sum(m2WC)\n",
    "    m3WCT = sum(m3WC)\n",
    "    m4WCT = sum(m4WC)\n",
    "    \n",
    "\n",
    "    #m1WCT = np.log(1+m1WCT)\n",
    "    #m2WCT = np.log(1+m2WCT)\n",
    "    #m3WCT = np.log(1+m3WCT)\n",
    "    #m4WCT = np.log(1+m4WCT)\n",
    "    \n",
    "    contM1 =g_m1.shape[0]\n",
    "    contM2 =g_m2.shape[0]\n",
    "    contM3 =g_m3.shape[0]\n",
    "    contM4 =g_m4.shape[0]\n",
    "    \n",
    "    \n",
    "    contM1 = (contM1*m1WCT)\n",
    "    contM2 = (contM2*m2WCT)\n",
    "    contM3 = (contM3*m3WCT)\n",
    "    contM4 = (contM4*m4WCT)\n",
    "    \n",
    "    \n",
    "    contDist=[contM1, contM2, contM3, contM4]\n",
    "    \n",
    "    return contDist\n"
   ]
  },
  {
   "cell_type": "code",
   "execution_count": 9,
   "metadata": {
    "collapsed": true
   },
   "outputs": [],
   "source": [
    "def selectFromGroup(gr, num):\n",
    "    grpO = gr\n",
    "    grpDataL=gr.shape[0]  #get the number of rows in group data\n",
    "    \n",
    "    if num<grpDataL:  #check if 'num' is not more that the number of rows in groupData\n",
    "        grp=gr.iloc[0:num] # get first 'num' rows of dataframe\n",
    "        \n",
    "        return grp\n",
    "    else:\n",
    "        return grpO"
   ]
  },
  {
   "cell_type": "code",
   "execution_count": 10,
   "metadata": {
    "collapsed": true
   },
   "outputs": [],
   "source": [
    "def plotGroupAtTimeIntevals(grList,allGpMem, num):\n",
    "    #Capture row lenght of data of each group into list\n",
    "    l = [grList[0].shape[0], grList[1].shape[0], grList[2].shape[0], grList[3].shape[0],grList[4].shape[0], grList[5].shape[0], grList[6].shape[0], grList[7].shape[0], grList[8].shape[0], grList[9].shape[0]]\n",
    "    grp1=[]\n",
    "    grp2=[]\n",
    "    grp3=[]\n",
    "    grp4=[]\n",
    "    grp5=[]\n",
    "    grp6=[]\n",
    "    grp7=[]\n",
    "    grp8=[]\n",
    "    grp9=[]\n",
    "    grp10=[]\n",
    "    \n",
    "    timeSeries =[]\n",
    "    timeT=0\n",
    "    #Get the row lenght of group with maximum row\n",
    "    maxL = max(l)\n",
    "    for i in xrange(num ,maxL, num):\n",
    "        ColabMeasure = getGiniCoef(selectFromGroup(grList[0], i), allGpMem[0]) \n",
    "        ColabMeasure2= getGiniCoef(selectFromGroup(grList[1], i), allGpMem[1])\n",
    "        ColabMeasure3= getGiniCoef(selectFromGroup(grList[2], i), allGpMem[2])\n",
    "        ColabMeasure4= getGiniCoef(selectFromGroup(grList[3], i), allGpMem[3])\n",
    "        ColabMeasure5= getGiniCoef(selectFromGroup(grList[4], i), allGpMem[4]) \n",
    "        ColabMeasure6= getGiniCoef(selectFromGroup(grList[5], i), allGpMem[5])\n",
    "        ColabMeasure7= getGiniCoef(selectFromGroup(grList[6], i), allGpMem[6])\n",
    "        ColabMeasure8= getGiniCoef(selectFromGroup(grList[7], i), allGpMem[7])\n",
    "        ColabMeasure9= getGiniCoef(selectFromGroup(grList[8], i), allGpMem[8])\n",
    "        ColabMeasure10= getGiniCoef(selectFromGroup(grList[9], i), allGpMem[9])\n",
    "        #ColabMeasure5= getGiniCoef(selectFromGroup(grList[4], i), allGpMem[4])\n",
    "        if i>grList[0].shape[0]:\n",
    "            ColabMeasure=0\n",
    "        if i>grList[1].shape[0]:\n",
    "            ColabMeasure2=0\n",
    "        if i>grList[2].shape[0]:\n",
    "            ColabMeasure3=0\n",
    "        if i>grList[3].shape[0]:\n",
    "            ColabMeasure4=0\n",
    "        if i>grList[4].shape[0]:\n",
    "            ColabMeasure5=0\n",
    "        if i>grList[5].shape[0]:\n",
    "            ColabMeasure6=0\n",
    "        if i>grList[6].shape[0]:\n",
    "            ColabMeasure7=0\n",
    "        if i>grList[7].shape[0]:\n",
    "            ColabMeasure8=0\n",
    "        if i>grList[8].shape[0]:\n",
    "            ColabMeasure9=0\n",
    "        if i>grList[9].shape[0]:\n",
    "            ColabMeasure10=0\n",
    "\n",
    "            \n",
    "        \n",
    "        \n",
    "        grp1.append(ColabMeasure)\n",
    "        grp2.append(ColabMeasure2)\n",
    "        grp3.append(ColabMeasure3)\n",
    "        grp4.append(ColabMeasure4)\n",
    "        grp5.append(ColabMeasure5)\n",
    "        grp6.append(ColabMeasure6)\n",
    "        grp7.append(ColabMeasure7)\n",
    "        grp8.append(ColabMeasure8)\n",
    "        grp9.append(ColabMeasure9)\n",
    "        grp10.append(ColabMeasure10)\n",
    "\n",
    "        \n",
    "\n",
    "        timeSeries.append(timeT)\n",
    "        timeT+=1\n",
    "    grpList=[grp1, grp2, grp3, grp4, grp5, grp6, grp7, grp8, grp9, grp10]\n",
    "    \n",
    "    return grpList, timeSeries\n",
    "        \n"
   ]
  },
  {
   "cell_type": "code",
   "execution_count": 13,
   "metadata": {},
   "outputs": [
    {
     "name": "stderr",
     "output_type": "stream",
     "text": [
      "C:\\Users\\User\\Anaconda2\\lib\\site-packages\\ipykernel_launcher.py:37: RuntimeWarning: divide by zero encountered in double_scalars\n"
     ]
    },
    {
     "data": {
      "image/png": "[encoded data removed]",
      "text/plain": [
       "<matplotlib.figure.Figure at 0x6690048>"
      ]
     },
     "metadata": {},
     "output_type": "display_data"
    }
   ],
   "source": [
    "m1List = ['cls409','cls410', 'cls411',  'cls412']\n",
    "m2List = ['cls413', 'cls414', 'cls415', 'cls416']\n",
    "m3List = ['cls417','cls418', 'cls419', 'cls420']\n",
    "m4List = ['cls421', 'cls422', 'cls423', 'cls424']\n",
    "m5List = ['cls425','cls426', 'cls427',  'cls428']\n",
    "m6List = ['cls429', 'cls430', 'cls431', 'cls432']\n",
    "m7List = ['cls433','cls434', 'cls435', 'cls436']\n",
    "m8List = ['cls437', 'cls438', 'cls438', 'cls440']\n",
    "m9List = ['cls445','cls446', 'cls447', 'cls448']\n",
    "m10List = ['cls457', 'cls458', 'cls459', 'cls460']\n",
    "\n",
    "\n",
    "#m5List = ['cls401', 'cls402', 'cls403', 'cls404']\n",
    "\n",
    "all4gMem = [m1List, m2List, m3List, m4List, m5List, m6List, m7List, m8List, m9List, m10List]\n",
    "allGrps = [group1_1, group2_1, group3_1, group4_1, group5_1, group6_1, group7_1, group8_1, group9_1, group10_1] \n",
    "\n",
    "grpList,timeList = plotGroupAtTimeIntevals(allGrps,all4gMem, 2)\n",
    "#plotGroupAtTimeIntevals(allGrps,all4gMem, 1) \n",
    "       \n",
    "plt.plot(timeList, grpList[0], color='#0000FF', label ='group 1')\n",
    "plt.plot(timeList, grpList[1], color='#A52A2A', label ='group 2')\n",
    "plt.plot(timeList, grpList[2], color='#0000FF', label='group 3')\n",
    "plt.plot(timeList, grpList[3], color='#A52A2A', label='group 4')\n",
    "plt.plot(timeList, grpList[4], color='#0000FF', label ='group 5')\n",
    "plt.plot(timeList, grpList[5], color='#A52A2A', label ='group 6')\n",
    "plt.plot(timeList, grpList[6], color='#0000FF', label='group 7')\n",
    "plt.plot(timeList, grpList[7], color='#A52A2A', label='group 8')\n",
    "plt.plot(timeList, grpList[8], color='#0000FF', label='group 9')\n",
    "plt.plot(timeList, grpList[9], color='#A52A2A', label='group 10')\n",
    "\n",
    "plt.xlabel('Time intervals')\n",
    "plt.ylabel('Collaboration Level')\n",
    "\n",
    "\n",
    "plt.legend(bbox_to_anchor=(1.1, 1.05))\n",
    "plt.savefig('C:/Users/User/Desktop/NewStudy/realTimeMeasure.jpg')\n",
    "#plt.savefig('C:/Users/User/Desktop/Study3/StudyData1/realTimeMeasure.jpg')\n",
    "plt.show()\n"
   ]
  },
  {
   "cell_type": "code",
   "execution_count": null,
   "metadata": {
    "collapsed": true
   },
   "outputs": [],
   "source": []
  },
  {
   "cell_type": "code",
   "execution_count": null,
   "metadata": {
    "collapsed": true
   },
   "outputs": [],
   "source": []
  }
 ],
 "metadata": {
  "kernelspec": {
   "display_name": "Python 2",
   "language": "python",
   "name": "python2"
  },
  "language_info": {
   "codemirror_mode": {
    "name": "ipython",
    "version": 2
   },
   "file_extension": ".py",
   "mimetype": "text/x-python",
   "name": "python",
   "nbconvert_exporter": "python",
   "pygments_lexer": "ipython2",
   "version": "2.7.13"
  }
 },
 "nbformat": 4,
 "nbformat_minor": 2
}

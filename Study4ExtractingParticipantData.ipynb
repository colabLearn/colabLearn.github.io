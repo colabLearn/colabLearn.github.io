{
 "cells": [
  {
   "cell_type": "code",
   "execution_count": 1,
   "metadata": {
    "collapsed": true
   },
   "outputs": [],
   "source": [
    "import pandas as pd\n",
    "import numpy as np\n",
    "from numpy import median\n",
    "import matplotlib.pyplot as plt\n",
    "import matplotlib.animation as animation\n",
    "import pylab as pl\n",
    "from IPython import display\n",
    "import time\n",
    "from matplotlib import animation\n",
    "from mpl_toolkits import mplot3d\n",
    "%matplotlib inline\n",
    "plt.style.use('ggplot')\n",
    "from pylab import figure, subplot, hist, xlim, show\n",
    "import psycopg2\n"
   ]
  },
  {
   "cell_type": "code",
   "execution_count": 26,
   "metadata": {
    "collapsed": true
   },
   "outputs": [],
   "source": [
    "def getParticipantData(memList):\n",
    "    conn = psycopg2.connect(database=\"dcr579jl1mh56g\", user = \"tcuceyhvgqlejy\", password = \"2c8288a367bdc38450e89d9fc17b8f1319fac07c140f6bbb5f5339ee7ff984d5\", host = \"ec2-54-83-22-244.compute-1.amazonaws.com\", port = \"5432\")\n",
    "\n",
    "    #print \"Opened database successfully\"\n",
    "\n",
    "    cur = conn.cursor()\n",
    "\n",
    "    cur.execute(\"select Gender, Age, Edu from cls4pretestdata where usercode= '\"+ memList[0]+\"' OR usercode= '\"+ memList[1]+\"' OR usercode= '\"+ memList[2]+ \"' OR usercode= '\"+ memList[3]+\"'\")\n",
    "    df = pd.DataFrame(cur.fetchall())\n",
    "    df.columns = ['Gender', 'Age', 'Edu']\n",
    "    \n",
    "    nameList=df['Age'].tolist()\n",
    "\n",
    "    for n, i in enumerate(nameList): \n",
    "        if i ==1:\n",
    "            nameList[n] = \"18-25\"\n",
    "        if i==2:\n",
    "            nameList[n] = \"26-35\"\n",
    "        if i==3:\n",
    "            nameList[n] = \"36-45\"\n",
    "        if i==4:\n",
    "            nameList[n] = \"46-55\"\n",
    "        \n",
    "    df.drop('Age', axis=1, inplace=True)\n",
    "    se = pd.Series(nameList)\n",
    "    df['Age'] = se.values\n",
    "    \n",
    "    nameList=df['Edu'].tolist()\n",
    "\n",
    "    for n, i in enumerate(nameList): \n",
    "        if i ==1:\n",
    "            nameList[n] = \"Undergrad\"\n",
    "        if i==2:\n",
    "            nameList[n] = \"Undergrad\"\n",
    "        if i==3:\n",
    "            nameList[n] = \"Postgrad\"\n",
    "           \n",
    "    df.drop('Edu', axis=1, inplace=True)\n",
    "    se = pd.Series(nameList)\n",
    "    df['Edu'] = se.values\n",
    "    \n",
    "    conn.close()\n",
    "    \n",
    "    #df2 = extractWordCounInContrib(df)\n",
    "    return df"
   ]
  },
  {
   "cell_type": "code",
   "execution_count": 30,
   "metadata": {
    "collapsed": true
   },
   "outputs": [],
   "source": [
    "m1List = ['cls409','cls410', 'cls411',  'cls412']\n",
    "m1List = ['cls409','cls410', 'cls411',  'cls412']\n",
    "m2List = ['cls413', 'cls414', 'cls415', 'cls416']\n",
    "m3List = ['cls417','cls418', 'cls419', 'cls420']\n",
    "m4List = ['cls421', 'cls422', 'cls423', 'cls424']\n",
    "m5List = ['cls425','cls426', 'cls427',  'cls428']\n",
    "m6List = ['cls429', 'cls430', 'cls431', 'cls432']\n",
    "m7List = ['cls433','cls434', 'cls435', 'cls436']\n",
    "m8List = ['cls437', 'cls438', 'cls439', 'cls440']\n",
    "m9List = ['cls445','cls446', 'cls447', 'cls448']\n",
    "m10List = ['cls457', 'cls458', 'cls459', 'cls460']\n",
    "\n",
    "groups =['group1', 'group2', 'group3', 'group4', 'group5', 'group6', 'group7', 'group8', 'group9', 'group10'] \n",
    "mList = [m1List, m2List, m3List, m4List, m5List, m6List, m7List, m8List, m9List, m10List]\n",
    "\n",
    "for i in range(len(mList)):\n",
    "    group = getParticipantData(mList[i])\n",
    "    #print group\n",
    "    group.to_csv(\"C:/Users/User/Desktop/NewStudy/participantData/\"+groups[i]+\".csv\")\n",
    "#print group1\n"
   ]
  },
  {
   "cell_type": "code",
   "execution_count": null,
   "metadata": {
    "collapsed": true
   },
   "outputs": [],
   "source": []
  }
 ],
 "metadata": {
  "kernelspec": {
   "display_name": "Python 2",
   "language": "python",
   "name": "python2"
  },
  "language_info": {
   "codemirror_mode": {
    "name": "ipython",
    "version": 2
   },
   "file_extension": ".py",
   "mimetype": "text/x-python",
   "name": "python",
   "nbconvert_exporter": "python",
   "pygments_lexer": "ipython2",
   "version": "2.7.13"
  }
 },
 "nbformat": 4,
 "nbformat_minor": 2
}

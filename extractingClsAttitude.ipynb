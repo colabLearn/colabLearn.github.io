{
 "cells": [
  {
   "cell_type": "code",
   "execution_count": 1,
   "metadata": {
    "collapsed": true
   },
   "outputs": [],
   "source": [
    "import pandas as pd\n",
    "import numpy as np\n",
    "from numpy import median\n",
    "import matplotlib.pyplot as plt\n",
    "import matplotlib.animation as animation\n",
    "import pylab as pl\n",
    "from IPython import display\n",
    "import time\n",
    "from matplotlib import animation\n",
    "from mpl_toolkits import mplot3d\n",
    "%matplotlib inline\n",
    "plt.style.use('ggplot')\n",
    "from pylab import figure, subplot, hist, xlim, show\n",
    "import psycopg2\n",
    "from numpy import mean\n"
   ]
  },
  {
   "cell_type": "code",
   "execution_count": 2,
   "metadata": {
    "collapsed": true
   },
   "outputs": [],
   "source": [
    "def memcolabAttitude(memList):\n",
    "    conn = psycopg2.connect(database=\"dcr579jl1mh56g\", user = \"tcuceyhvgqlejy\", password = \"2c8288a367bdc38450e89d9fc17b8f1319fac07c140f6bbb5f5339ee7ff984d5\", host = \"ec2-54-83-22-244.compute-1.amazonaws.com\", port = \"5432\")\n",
    "\n",
    "    #print \"Opened database successfully\"\n",
    "\n",
    "    cur = conn.cursor()\n",
    "    #select * from cls4pretestdata where usercode= 'cls409' OR usercode= 'cls410' OR usercode=  'cls411' OR usercode= 'cls412'\n",
    "    cur.execute(\"select usercode, q1, q2, q3, q4, q5, q6, q7, q8, q9, q10 from cls4pretestdata where usercode= '\"+ memList[0]+\"' OR usercode= '\"+ memList[1]+\"' OR usercode= '\"+ memList[2]+ \"' OR usercode= '\"+ memList[3]+\"'\")\n",
    "    df = pd.DataFrame(cur.fetchall())\n",
    "    df.columns = ['usercode','q1', 'q2', 'q3', 'q4', 'q5', 'q6', 'q7', 'q8', 'q9', 'q10']\n",
    "    #df.columns = cur.keys()\n",
    "    #rows = cur.fetchall()\n",
    "    #print \"Operation done successfully\";\n",
    "    conn.close()\n",
    "    \n",
    "    df.iloc[:, [0,1,2, 3, 4, 5]]\n",
    "\n",
    "    colab = df.iloc[:, [0,1,2, 3, 4, 5]]\n",
    "\n",
    "    a_colab = df.iloc[:, [0,6,7, 8, 9, 10]]\n",
    "    \n",
    "    #df2 = extractWordCounInContrib(df)\n",
    "    return colab, a_colab\n"
   ]
  },
  {
   "cell_type": "code",
   "execution_count": 17,
   "metadata": {},
   "outputs": [],
   "source": [
    "m1List = ['cls409','cls410', 'cls411',  'cls412']\n",
    "m2List = ['cls413', 'cls414', 'cls415', 'cls416']\n",
    "m3List = ['cls417','cls418', 'cls419', 'cls420']\n",
    "m4List = ['cls421', 'cls422', 'cls423', 'cls424']\n",
    "m5List = ['cls425','cls426', 'cls427',  'cls428']\n",
    "m6List = ['cls429', 'cls430', 'cls431', 'cls432']\n",
    "m7List = ['cls433','cls434', 'cls435', 'cls436']\n",
    "m8List = ['cls437', 'cls438', 'cls439', 'cls440']\n",
    "m9List = ['cls445','cls446', 'cls447', 'cls448']\n",
    "m10List = ['cls457', 'cls458', 'cls459', 'cls460']\n",
    "\n",
    "\n",
    "c1, a_c1 = memcolabAttitude(m1List);\n",
    "c2, a_c2 = memcolabAttitude(m2List);\n",
    "c3, a_c3 = memcolabAttitude(m3List);\n",
    "c4, a_c4 = memcolabAttitude(m4List);\n",
    "c5, a_c5 = memcolabAttitude(m5List);\n",
    "c6, a_c6 = memcolabAttitude(m6List);\n",
    "c7, a_c7 = memcolabAttitude(m7List);\n",
    "c8, a_c8 = memcolabAttitude(m8List);\n",
    "c9, a_c9 = memcolabAttitude(m9List);\n",
    "c10, a_c10 = memcolabAttitude(m10List);\n",
    "\n",
    "grp1 =[c1, a_c1]\n",
    "grp2 =[c2, a_c2]\n",
    "grp3 =[c3, a_c3]\n",
    "grp4 =[c4, a_c4]\n",
    "grp5 =[c5, a_c5]\n",
    "grp6 =[c6, a_c6]\n",
    "grp7 =[c7, a_c7]\n",
    "grp8 =[c8, a_c8]\n",
    "grp9 =[c9, a_c9]\n",
    "grp10 =[c10, a_c10]\n",
    "\n",
    "#print (grp1)\n",
    "\n",
    "#grp1.iloc[:, [0,1,2, 3, 4, 5]]\n",
    "\n",
    "#colab = grp1.iloc[:, [0,1,2, 3, 4, 5]]\n",
    "\n",
    "#a_colab = grp1.iloc[:, [0,6,7, 8, 9, 10]]\n",
    "\n",
    "#print (colab)\n",
    "#print (a_colab)"
   ]
  },
  {
   "cell_type": "code",
   "execution_count": 9,
   "metadata": {
    "collapsed": true
   },
   "outputs": [],
   "source": [
    "def extractColabAttitudeForGroup (grpData, agrpData):\n",
    "    grCl = {}\n",
    "    agrCl ={}\n",
    "    for i in range(grpData.shape[0]):\n",
    "    #print i\n",
    "        user = grpData.iloc[i,0] \n",
    "        auser = agrpData.iloc[i,0] \n",
    "\n",
    "    #print grpData\n",
    "        cM = grpData.iloc[i, [1,2,3,4]] \n",
    "        acM = agrpData.iloc[i, [1,2,3,4]]\n",
    "        \n",
    "        cmList =cM.tolist()\n",
    "        acmList =acM.tolist()\n",
    "    #print cmList\n",
    "        mM =  mean(cmList)\n",
    "        amM =  mean(acmList)\n",
    "    #print mM\n",
    "        grCl[user]=mM\n",
    "        agrCl[auser]=amM\n",
    "    \n",
    "    \n",
    "    return grCl, agrCl\n",
    "    \n"
   ]
  },
  {
   "cell_type": "code",
   "execution_count": 25,
   "metadata": {},
   "outputs": [
    {
     "name": "stdout",
     "output_type": "stream",
     "text": [
      "{'cls415': 3.75, 'cls414': 3.25, 'cls416': 2.25, 'cls413': 4.0}\n",
      "{'cls415': 3.5, 'cls414': 2.75, 'cls416': 3.75, 'cls413': 2.5}\n"
     ]
    }
   ],
   "source": [
    "dictC1, a_dictC1 = extractColabAttitudeForGroup (grp1[0], grp1[1]);\n",
    "dictC2, a_dictC2 = extractColabAttitudeForGroup (grp2[0], grp2[1]);\n",
    "dictC3, a_dictC3 = extractColabAttitudeForGroup (grp3[0], grp3[1]);\n",
    "dictC4, a_dictC4 = extractColabAttitudeForGroup (grp4[0], grp4[1]);\n",
    "dictC5, a_dictC5 = extractColabAttitudeForGroup (grp5[0], grp5[1]);\n",
    "dictC6, a_dictC6 = extractColabAttitudeForGroup (grp6[0], grp6[1]);\n",
    "dictC7, a_dictC7 = extractColabAttitudeForGroup (grp7[0], grp7[1]);\n",
    "dictC8, a_dictC8 = extractColabAttitudeForGroup (grp8[0], grp8[1]);\n",
    "dictC9, a_dictC9 = extractColabAttitudeForGroup (grp9[0], grp9[1]);\n",
    "dictC10, a_dictC10 = extractColabAttitudeForGroup (grp10[0], grp10[1]);\n",
    "\n",
    "DictGrp1 =[dictC1, a_dictC1]\n",
    "DictGrp2 =[dictC2, a_dictC2]\n",
    "DictGrp3 =[dictC3, a_dictC3]\n",
    "DictGrp4 =[dictC4, a_dictC4]\n",
    "DictGrp5 =[dictC5, a_dictC5]\n",
    "DictGrp6 =[dictC6, a_dictC6]\n",
    "DictGrp7 =[dictC7, a_dictC7]\n",
    "DictGrp8 =[dictC8, a_dictC8]\n",
    "DictGrp9 =[dictC9, a_dictC9]\n",
    "DictGrp10 =[dictC10, a_dictC10]\n",
    "\n",
    "#col, acol = extractColabAttitudeForGroup (colab, a_colab)\n",
    "#col =extractColabAttitudeForGroup (colab)\n",
    "#acol = extractColabAttitudeForGroup (a_colab)\n",
    "print DictGrp2[0]\n",
    "print DictGrp2[1]"
   ]
  },
  {
   "cell_type": "code",
   "execution_count": 20,
   "metadata": {},
   "outputs": [],
   "source": [
    "def calPropensityToCola(gCol, ga_Col):\n",
    "    t_Col = {}\n",
    "    for k in gCol:\n",
    "        kValue= gCol[k]/ga_Col[k]\n",
    "    \n",
    "        t_Col[k]= format(kValue, '.2f')\n",
    "    \n",
    "    return t_Col"
   ]
  },
  {
   "cell_type": "code",
   "execution_count": 47,
   "metadata": {},
   "outputs": [
    {
     "name": "stdout",
     "output_type": "stream",
     "text": [
      "{'cls437': '2.00', 'cls440': '0.69', 'cls439': '1.45', 'cls438': '0.69'}\n"
     ]
    }
   ],
   "source": [
    "grp1PColab= calPropensityToCola(DictGrp1[0], DictGrp1[1])\n",
    "grp2PColab= calPropensityToCola(DictGrp2[0], DictGrp2[1])\n",
    "grp3PColab= calPropensityToCola(DictGrp3[0], DictGrp3[1])\n",
    "grp4PColab= calPropensityToCola(DictGrp4[0], DictGrp4[1])\n",
    "grp5PColab= calPropensityToCola(DictGrp5[0], DictGrp5[1])\n",
    "grp6PColab= calPropensityToCola(DictGrp6[0], DictGrp6[1])\n",
    "grp7PColab= calPropensityToCola(DictGrp7[0], DictGrp7[1])\n",
    "grp8PColab= calPropensityToCola(DictGrp8[0], DictGrp8[1])\n",
    "grp9PColab= calPropensityToCola(DictGrp9[0], DictGrp9[1])\n",
    "grp10PColab= calPropensityToCola(DictGrp10[0], DictGrp10[1])\n",
    "\n",
    "\n",
    "print grp8PColab"
   ]
  },
  {
   "cell_type": "code",
   "execution_count": 15,
   "metadata": {
    "collapsed": true
   },
   "outputs": [],
   "source": [
    "def extractDataFromDictIntoList (groupDict):\n",
    "    list1 = []\n",
    "    for i in groupDict:\n",
    "        iValue = groupDict[i]\n",
    "        \n",
    "        list1.append(iValue)\n",
    "    \n",
    "    return list1"
   ]
  },
  {
   "cell_type": "code",
   "execution_count": 34,
   "metadata": {},
   "outputs": [
    {
     "name": "stdout",
     "output_type": "stream",
     "text": [
      "['2.00', '0.78', '1.60', '1.23']\n"
     ]
    }
   ],
   "source": [
    "g1List = extractDataFromDictIntoList (grp1PColab)\n",
    "g2List = extractDataFromDictIntoList (grp2PColab)\n",
    "g3List = extractDataFromDictIntoList (grp3PColab)\n",
    "g4List = extractDataFromDictIntoList (grp4PColab)\n",
    "g5List = extractDataFromDictIntoList (grp5PColab)\n",
    "g6List = extractDataFromDictIntoList (grp6PColab)\n",
    "g7List = extractDataFromDictIntoList (grp7PColab)\n",
    "g8List = extractDataFromDictIntoList (grp8PColab)\n",
    "g9List = extractDataFromDictIntoList (grp9PColab)\n",
    "g10List = extractDataFromDictIntoList (grp10PColab)\n",
    "\n",
    "\n",
    "\n",
    "print g3List"
   ]
  },
  {
   "cell_type": "code",
   "execution_count": 65,
   "metadata": {},
   "outputs": [
    {
     "data": {
      "image/png": "[encoded data removed]",
      "text/plain": [
       "<matplotlib.figure.Figure at 0x2217b5f8>"
      ]
     },
     "metadata": {},
     "output_type": "display_data"
    }
   ],
   "source": [
    "\n",
    "N = 4\n",
    "group1 = [1, 1, 1, 1]\n",
    "group2 = [2, 2, 2, 2]\n",
    "group3 = [3, 3, 3, 3]\n",
    "group4 = [4, 4, 4, 4]\n",
    "group5 = [5, 5, 5, 5]\n",
    "group6 = [6, 6, 6, 6]\n",
    "group7 = [7, 7, 7, 7]\n",
    "group8 = [8, 8, 8, 8]\n",
    "group9 = [9, 9, 9, 9]\n",
    "group10 = [10, 10, 10, 10]\n",
    "\n",
    "plt.scatter(group1, g1List, c='r', label='group1', alpha=0.5)\n",
    "plt.scatter(group2, g2List, c='b', label='group2', alpha=0.5)\n",
    "plt.scatter(group3, g3List, c='g',label='group3', alpha=0.5)\n",
    "plt.scatter(group4, g4List, c='y', label='group4', alpha=0.5)\n",
    "plt.scatter(group5, g5List, c='aqua', label='group5', alpha=0.5)\n",
    "plt.scatter(group6, g6List, c='black', label='group6', alpha=0.5)\n",
    "plt.scatter(group7, g7List, c='darkcyan', label='group7', alpha=0.5)\n",
    "plt.scatter(group8, g8List, c='goldenrod', label='group8', alpha=0.5)\n",
    "plt.scatter(group9, g9List, c='saddlebrown', label='group9', alpha=0.5)\n",
    "plt.scatter(group10, g10List, c='teal', label='group10', alpha=0.5)\n",
    "\n",
    "plt.legend(loc='center left', bbox_to_anchor=(1, 0.5))\n",
    "plt.show()"
   ]
  },
  {
   "cell_type": "code",
   "execution_count": 66,
   "metadata": {},
   "outputs": [],
   "source": [
    "def extractWordCounInContrib( groupData ):\n",
    "    group = groupData \n",
    "    group1_1 = pd.DataFrame(group['message'])\n",
    "    group1M_List=group1_1['message'].tolist()\n",
    "\n",
    "    wordCount = []\n",
    "    for x in group1M_List:\n",
    "        if (pd.isnull(x )):\n",
    "            text=0\n",
    "        else:\n",
    "            x = str(x)\n",
    "            text = len(x.split())\n",
    "        \n",
    "        wordCount.append(text) \n",
    "\n",
    "   \n",
    "    group[\"Word Count\"]= wordCount \n",
    "\n",
    "    return group"
   ]
  },
  {
   "cell_type": "code",
   "execution_count": 67,
   "metadata": {
    "collapsed": true
   },
   "outputs": [],
   "source": [
    "def getDataFromDatabase(groupName):\n",
    "    conn = psycopg2.connect(database=\"dcr579jl1mh56g\", user = \"tcuceyhvgqlejy\", password = \"2c8288a367bdc38450e89d9fc17b8f1319fac07c140f6bbb5f5339ee7ff984d5\", host = \"ec2-54-83-22-244.compute-1.amazonaws.com\", port = \"5432\")\n",
    "\n",
    "    #print \"Opened database successfully\"\n",
    "\n",
    "    cur = conn.cursor()\n",
    "\n",
    "    cur.execute(\"SELECT * from \"+groupName)\n",
    "    df = pd.DataFrame(cur.fetchall())\n",
    "    df.columns = ['id', 'message', 'time', 'username']\n",
    "    #df.columns = cur.keys()\n",
    "    #rows = cur.fetchall()\n",
    "    #print \"Operation done successfully\";\n",
    "    conn.close()\n",
    "    \n",
    "    df2 = extractWordCounInContrib(df)\n",
    "    return df2\n"
   ]
  },
  {
   "cell_type": "code",
   "execution_count": 68,
   "metadata": {
    "collapsed": true
   },
   "outputs": [],
   "source": [
    "group1_1 = getDataFromDatabase(\"s4group3\")\n",
    "group2_1 = getDataFromDatabase(\"s4group4\")\n",
    "group3_1 = getDataFromDatabase(\"s4group5\")\n",
    "group4_1 = getDataFromDatabase(\"s4group6\")\n",
    "group5_1 = getDataFromDatabase(\"s4group7\")\n",
    "group6_1 = getDataFromDatabase(\"s4group8\")\n",
    "group7_1 = getDataFromDatabase(\"s4group9\")\n",
    "group8_1 = getDataFromDatabase(\"s4group10\")\n",
    "group9_1 = getDataFromDatabase(\"s4group12\")\n",
    "group10_1 = getDataFromDatabase(\"s4group15\")"
   ]
  },
  {
   "cell_type": "code",
   "execution_count": 69,
   "metadata": {
    "collapsed": true
   },
   "outputs": [],
   "source": [
    "def getGiniCoef(group, memList):\n",
    "    #for a group of 4 members\n",
    "    #We capture contribution of each of the members\n",
    "    g_m1=group.loc[group['username'] == memList[0]]\n",
    "    g_m2=group.loc[group['username'] == memList[1]]\n",
    "    g_m3=group.loc[group['username'] == memList[2]]\n",
    "    g_m4=group.loc[group['username'] == memList[3]]\n",
    "    \n",
    "    contM1 =g_m1.shape[0]\n",
    "    contM2 =g_m2.shape[0]\n",
    "    contM3 =g_m3.shape[0]\n",
    "    contM4 =g_m4.shape[0]\n",
    "    \n",
    "    \n",
    "    #A list of contribution count by each member of the group\n",
    "    grpWC= [contM1, contM2, contM3, contM4]\n",
    "    \n",
    "    #Mean of members contrubtion\n",
    "    grpMean = np.mean(grpWC)\n",
    "    summ=0\n",
    "    #Caclute gini coeficient measure of symmetry of contributions within group\n",
    "    for i in grpWC:\n",
    "        n=grpWC.index(i)+1    \n",
    "        for j in grpWC[n:]:\n",
    "            summ+=abs(i-j)\n",
    "            \n",
    "    GiniCoefMeasure = summ/(2*(len(grpWC)**2)*grpMean)\n",
    "    \n",
    "    return  GiniCoefMeasure\n"
   ]
  },
  {
   "cell_type": "code",
   "execution_count": 70,
   "metadata": {
    "collapsed": true
   },
   "outputs": [],
   "source": [
    "def calGiniCoefAllGrps(grpList, allGrpMem):\n",
    "    giniCof1 = getGiniCoef(grpList[0], allGrpMem[0]) \n",
    "    giniCof2= getGiniCoef(grpList[1], allGrpMem[1])\n",
    "    giniCof3= getGiniCoef(grpList[2], allGrpMem[2])\n",
    "    giniCof4= getGiniCoef(grpList[3], allGrpMem[3])\n",
    "    giniCof5 = getGiniCoef(grpList[4], allGrpMem[4]) \n",
    "    giniCof6= getGiniCoef(grpList[5], allGrpMem[5])\n",
    "    giniCof7= getGiniCoef(grpList[6], allGrpMem[6])\n",
    "    giniCof8= getGiniCoef(grpList[7], allGrpMem[7])\n",
    "    giniCof9= getGiniCoef(grpList[8], allGrpMem[8])\n",
    "    giniCof10= getGiniCoef(grpList[9], allGrpMem[9])\n",
    "\n",
    "    #giniCof5= getGiniCoef(grpList[4], allGrpMem[4])\n",
    "    \n",
    "    return giniCof1,giniCof2,giniCof3,giniCof4,giniCof5,giniCof6,giniCof7,giniCof8,giniCof9,giniCof10  \n"
   ]
  },
  {
   "cell_type": "code",
   "execution_count": 71,
   "metadata": {
    "collapsed": true
   },
   "outputs": [],
   "source": [
    "def medianWordCount(group, memList):\n",
    "    \n",
    "    g_m1=group.loc[group['username'] == memList[0]]\n",
    "    g_m2=group.loc[group['username'] == memList[1]]\n",
    "    g_m3=group.loc[group['username'] == memList[2]]\n",
    "    g_m4=group.loc[group['username'] == memList[3]]\n",
    "        \n",
    "    g_m1WC = g_m1['Word Count'].tolist()\n",
    "    g_m2WC = g_m2['Word Count'].tolist()\n",
    "    g_m3WC = g_m3['Word Count'].tolist()\n",
    "    g_m4WC = g_m4['Word Count'].tolist()\n",
    "    \n",
    "    m1WC = sum(g_m1WC)\n",
    "    m2WC = sum(g_m2WC)\n",
    "    m3WC = sum(g_m3WC)\n",
    "    m4WC = sum(g_m4WC)\n",
    "    \n",
    "    grpMWC= [m1WC,m2WC, m3WC, m4WC]\n",
    "    \n",
    "    \n",
    "    return  median(grpMWC)\n",
    "\n"
   ]
  },
  {
   "cell_type": "code",
   "execution_count": 72,
   "metadata": {
    "collapsed": true
   },
   "outputs": [],
   "source": [
    "def calMedianWordCount4AllGrps(grList,allGpMem):\n",
    "        \n",
    "        grp1 = medianWordCount(grList[0], allGpMem[0])\n",
    "        grp2 = medianWordCount(grList[1], allGpMem[1])\n",
    "        grp3 = medianWordCount(grList[2], allGpMem[2])\n",
    "        grp4 = medianWordCount(grList[3], allGpMem[3])\n",
    "        grp5 = medianWordCount(grList[4], allGpMem[4])\n",
    "        grp6 = medianWordCount(grList[5], allGpMem[5])\n",
    "        grp7 = medianWordCount(grList[6], allGpMem[6])\n",
    "        grp8 = medianWordCount(grList[7], allGpMem[7])\n",
    "        grp9 = medianWordCount(grList[8], allGpMem[8])\n",
    "        grp10 = medianWordCount(grList[9], allGpMem[9])\n",
    "        #grp5 = medianWordCount(grList[4], allGpMem[4])\n",
    "        \n",
    "        return grp1,grp2,grp3,grp4,grp5,grp6,grp7,grp8,grp9,grp10    \n"
   ]
  },
  {
   "cell_type": "code",
   "execution_count": 73,
   "metadata": {
    "collapsed": true
   },
   "outputs": [],
   "source": [
    "def calColabLevel(grList,allGpMem):\n",
    "    gCGrp1,gCGrp2,gCGrp3,gCGrp4,gCGrp5,gCGrp6,gCGrp7,gCGrp8,gCGrp9,gCGrp10=calGiniCoefAllGrps(grList, allGpMem)\n",
    "    \n",
    "    mWCGrp1,mWCGrp2,mWCGrp3,mWCGrp4,mWCGrp5,mWCGrp6,mWCGrp7,mWCGrp8,mWCGrp9,mWCGrp10=calMedianWordCount4AllGrps(grList,allGpMem)\n",
    "   \n",
    "       \n",
    "    colabGrp1= mWCGrp1/gCGrp1\n",
    "    colabGrp2= mWCGrp2/gCGrp2\n",
    "    colabGrp3= mWCGrp3/gCGrp3\n",
    "    colabGrp4= mWCGrp4/gCGrp4\n",
    "    colabGrp5= mWCGrp5/gCGrp5\n",
    "    colabGrp6= mWCGrp6/gCGrp6\n",
    "    colabGrp7= mWCGrp7/gCGrp7\n",
    "    colabGrp8= mWCGrp8/gCGrp8\n",
    "    colabGrp9= mWCGrp9/gCGrp9\n",
    "    colabGrp10= mWCGrp10/gCGrp10\n",
    "    \n",
    "    #colabGrp5= mWCGrp5/gCGrp5\n",
    "    \n",
    "    return colabGrp1,colabGrp2,colabGrp3,colabGrp4,colabGrp5,colabGrp6,colabGrp7,colabGrp8,colabGrp9,colabGrp10  \n"
   ]
  },
  {
   "cell_type": "code",
   "execution_count": 84,
   "metadata": {},
   "outputs": [
    {
     "data": {
      "image/png": "[encoded data removed]",
      "text/plain": [
       "<matplotlib.figure.Figure at 0x22b83d68>"
      ]
     },
     "metadata": {},
     "output_type": "display_data"
    },
    {
     "data": {
      "image/png": "[encoded data removed]",
      "text/plain": [
       "<matplotlib.figure.Figure at 0xded3470>"
      ]
     },
     "metadata": {},
     "output_type": "display_data"
    }
   ],
   "source": [
    "fig = plt.figure()\n",
    "def plotcolabLevel(grList,allGpMem):\n",
    "        \n",
    "        Cgrp1,Cgrp2,Cgrp3,Cgrp4,Cgrp5,Cgrp6,Cgrp7,Cgrp8,Cgrp9,Cgrp10= calColabLevel(grList,allGpMem)\n",
    "        \n",
    "\n",
    "        x = ['Group 1', 'Group 2', 'Group 3', 'Group 4','Group 5', 'Group 6', 'Group 7', 'Group 8','Group 9', 'Group 10']\n",
    "        grpL=[Cgrp1,Cgrp2,Cgrp3,Cgrp4,Cgrp5,Cgrp6,Cgrp7,Cgrp8,Cgrp9,Cgrp10]\n",
    "        x_pos = [j for j, _ in enumerate(grpL)]\n",
    "        \n",
    "        N = 10\n",
    "        ind = np.arange(N) \n",
    "        width = 0.1  \n",
    "        \n",
    "\n",
    "        #lt.subplot(2, 1, 1) \n",
    "        barList= plt.bar(x_pos, grpL)\n",
    "        barList[0].set_color('r')\n",
    "        barList[1].set_color('b')\n",
    "        barList[2].set_color('g')\n",
    "        barList[3].set_color('y') \n",
    "        barList[4].set_color('aqua')\n",
    "        barList[5].set_color('black')\n",
    "        barList[6].set_color('darkcyan')\n",
    "        barList[7].set_color('goldenrod')\n",
    "        barList[8].set_color('saddlebrown')\n",
    "        barList[9].set_color('teal')\n",
    "        #barList[4].set_color('black')\n",
    "        #plt.xlabel(\"Groups\")\n",
    "        plt.ylabel(\"Model-based measure of Collab. \\n between groups\")\n",
    "        #plt.title(\"Between-groups measure of colabo. &\\n Within-group measure of contrib.\")\n",
    "        plt.xticks(x_pos, x, rotation='vertical')\n",
    "        \n",
    "        \n",
    "        plt.savefig('C:/Users/User/Desktop/NewStudy/measureOfColabBtwnGrps.jpg')\n",
    "        plt.legend(loc='best')\n",
    "        \n",
    "        plt.show()    \n",
    "   \n",
    "\n",
    "\n",
    "#MemberList in groups 1-4\n",
    "m1List = ['cls409','cls410', 'cls411',  'cls412']\n",
    "m2List = ['cls413', 'cls414', 'cls415', 'cls416']\n",
    "m3List = ['cls417','cls418', 'cls419', 'cls420']\n",
    "m4List = ['cls421', 'cls422', 'cls423', 'cls424']\n",
    "m5List = ['cls425','cls426', 'cls427',  'cls428']\n",
    "m6List = ['cls429', 'cls430', 'cls431', 'cls432']\n",
    "m7List = ['cls433','cls434', 'cls435', 'cls436']\n",
    "m8List = ['cls437', 'cls438', 'cls439', 'cls440']\n",
    "m9List = ['cls445','cls446', 'cls447', 'cls448']\n",
    "m10List = ['cls457', 'cls458', 'cls459', 'cls460']\n",
    "\n",
    "all4gMem = [m1List, m2List, m3List, m4List, m5List, m6List, m7List, m8List, m9List, m10List]\n",
    "allGrps = [group1_1, group2_1, group3_1, group4_1, group5_1, group6_1, group7_1, group8_1, group9_1, group10_1]\n",
    "\n",
    "#plotGroupAtTimeIntevals(allGrps,all4gMem, 1)\n",
    " \n",
    "plotcolabLevel(allGrps, all4gMem)\n",
    "\n",
    "N = 4\n",
    "group1 = [1, 1, 1, 1]\n",
    "group2 = [2, 2, 2, 2]\n",
    "group3 = [3, 3, 3, 3]\n",
    "group4 = [4, 4, 4, 4]\n",
    "group5 = [5, 5, 5, 5]\n",
    "group6 = [6, 6, 6, 6]\n",
    "group7 = [7, 7, 7, 7]\n",
    "group8 = [8, 8, 8, 8]\n",
    "group9 = [9, 9, 9, 9]\n",
    "group10 = [10, 10, 10, 10]\n",
    "\n",
    "plt.scatter(group1, g1List, c='r', label='group1')\n",
    "plt.scatter(group2, g2List, c='b', label='group2')\n",
    "plt.scatter(group3, g3List, c='g',label='group3')\n",
    "plt.scatter(group4, g4List, c='y', label='group4')\n",
    "plt.scatter(group5, g5List, c='aqua', label='group5')\n",
    "plt.scatter(group6, g6List, c='black', label='group6')\n",
    "plt.scatter(group7, g7List, c='darkcyan', label='group7')\n",
    "plt.scatter(group8, g8List, c='goldenrod', label='group8')\n",
    "plt.scatter(group9, g9List, c='saddlebrown', label='group9')\n",
    "plt.scatter(group10, g10List, c='teal', label='group10')\n",
    "\n",
    "plt.legend(loc='center left', bbox_to_anchor=(1, 0.5))\n",
    "plt.show()"
   ]
  },
  {
   "cell_type": "code",
   "execution_count": 85,
   "metadata": {},
   "outputs": [
    {
     "name": "stdout",
     "output_type": "stream",
     "text": [
      "  group5 group4 group7 group6 group1 group10 group3 group2 group9 group8\n",
      "0   0.93   1.33   1.15   1.00   2.50    2.29   2.00   1.07   1.21   2.00\n",
      "1   2.12   1.00   0.88   1.33   0.87    1.89   0.78   1.18   1.18   0.69\n",
      "2   0.36   1.88   1.14   0.93   1.90    1.00   1.60   0.60   1.33   1.45\n",
      "3   0.80   1.45   1.25   1.50   1.25    2.38   1.23   1.60   1.00   0.69\n"
     ]
    }
   ],
   "source": [
    "#groups =['groupP4', 'groupP5', 'groupP6', 'groupP8'] \n",
    "#mList = [g4List, g5List, g6List, g8List]\n",
    "groupP = {'group1':g1List, 'group2':g2List, 'group3':g3List, 'group4':g4List, 'group5':g5List, 'group6': g6List, 'group7':g7List, 'group8':g8List, 'group9':g9List, 'group10':g10List,}\n",
    "\n",
    "groupPTest = pd.DataFrame.from_dict(groupP, orient='index')\n",
    "groupPTest = groupPTest.transpose()\n",
    "print groupPTest\n",
    "groupPTest.to_csv(\"C:/Users/User/Desktop/NewStudy/participantData/groupsP3.csv\")"
   ]
  },
  {
   "cell_type": "code",
   "execution_count": null,
   "metadata": {},
   "outputs": [],
   "source": []
  },
  {
   "cell_type": "code",
   "execution_count": null,
   "metadata": {
    "collapsed": true
   },
   "outputs": [],
   "source": []
  }
 ],
 "metadata": {
  "kernelspec": {
   "display_name": "Python 2",
   "language": "python",
   "name": "python2"
  },
  "language_info": {
   "codemirror_mode": {
    "name": "ipython",
    "version": 2
   },
   "file_extension": ".py",
   "mimetype": "text/x-python",
   "name": "python",
   "nbconvert_exporter": "python",
   "pygments_lexer": "ipython2",
   "version": "2.7.13"
  }
 },
 "nbformat": 4,
 "nbformat_minor": 2
}

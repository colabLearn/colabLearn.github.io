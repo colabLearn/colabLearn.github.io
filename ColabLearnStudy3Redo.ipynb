{
 "cells": [
  {
   "cell_type": "code",
   "execution_count": null,
   "metadata": {},
   "outputs": [],
   "source": [
    "import pandas as pd\n",
    "import numpy as np\n",
    "import matplotlib.pyplot as plt\n",
    "import matplotlib.animation as animation\n",
    "import pylab as pl\n",
    "from IPython import display\n",
    "import time\n",
    "from matplotlib import animation \n",
    "from mpl_toolkits import mplot3d\n",
    "%matplotlib inline\n",
    "plt.style.use('ggplot')\n",
    "from pylab import figure, subplot, hist, xlim, show"
   ]
  },
  {
   "cell_type": "code",
   "execution_count": 2,
   "metadata": {},
   "outputs": [],
   "source": [
    "#Getting groups interaction data from excel  to panda dataframe\n",
    "group1_1 = pd.read_excel('C:\\Users\\User\\Desktop\\Destop13_04_2020\\StudyData1\\group1_1.xlsx')\n",
    "group2_1 = pd.read_excel('C:\\Users\\User\\Desktop\\Destop13_04_2020\\StudyData1\\group2_1.xlsx')\n",
    "group3_1 = pd.read_excel('C:\\Users\\User\\Desktop\\Destop13_04_2020\\StudyData1\\group6_1.xlsx')\n",
    "group4_1 = pd.read_excel('C:\\Users\\User\\Desktop\\Destop13_04_2020\\StudyData1\\group3_1.xlsx')\n",
    "group5_1 = pd.read_excel('C:\\Users\\User\\Desktop\\Destop13_04_2020\\StudyData1\\group5_1.xlsx')"
   ]
  },
  {
   "cell_type": "code",
   "execution_count": 3,
   "metadata": {},
   "outputs": [],
   "source": [
    "group1_1 = group1_1[group1_1['Word Count']>0]\n",
    "group2_1 = group2_1[group2_1['Word Count']>0]\n",
    "group3_1 = group3_1[group3_1['Word Count']>0]\n",
    "group4_1 = group4_1[group4_1['Word Count']>0]\n",
    "group5_1 = group5_1[group5_1['Word Count']>0]\n",
    "\n"
   ]
  },
  {
   "cell_type": "code",
   "execution_count": 4,
   "metadata": {
    "collapsed": true
   },
   "outputs": [],
   "source": [
    "grp1MemList = ['Ranco','Lucas', 'charis',  'United']\n",
    "grp2MemList = ['Carbon', 'oluwalonimi', 'smith', 'Arrival']\n",
    "grp3MemList = ['cls603','Epigha', 'Beowulf', 'Anonymous1']\n",
    "grp4MemList = ['smart', 'Swift', 'jade', 'the unknown']\n",
    "grp5MemList = ['Craig', 'sir D', 'Karatu', 'Mide']"
   ]
  },
  {
   "cell_type": "code",
   "execution_count": 5,
   "metadata": {
    "collapsed": true
   },
   "outputs": [],
   "source": [
    "def getMemDiscourseData2(group, memList):\n",
    "    grpMemDiscourse = []\n",
    "    for mem in memList:\n",
    "        memData=group.loc[group['username'] == mem]\n",
    "        grpMemDiscourse.append(memData)\n",
    "    \n",
    "    return grpMemDiscourse"
   ]
  },
  {
   "cell_type": "code",
   "execution_count": 6,
   "metadata": {},
   "outputs": [],
   "source": [
    "grp1Data_par_mem= getMemDiscourseData2(group1_1, grp1MemList)\n",
    "grp2Data_par_mem= getMemDiscourseData2(group2_1, grp2MemList)\n",
    "grp3Data_par_mem= getMemDiscourseData2(group3_1, grp3MemList)\n",
    "grp4Data_par_mem= getMemDiscourseData2(group4_1, grp4MemList)\n",
    "grp5Data_par_mem= getMemDiscourseData2(group5_1, grp5MemList)\n",
    "\n",
    "\n",
    "#grp3Data_par_mem[0].to_csv('C:/Users/User/Desktop/StudyData1/writeUp_data/mem1Data.csv')\n",
    "#grp3Data_par_mem[1].to_csv('C:/Users/User/Desktop/StudyData1/writeUp_data/mem2Data.csv')\n",
    "#grp3Data_par_mem[2].to_csv('C:/Users/User/Desktop/StudyData1/writeUp_data/mem3Data.csv')\n",
    "#grp3Data_par_mem[3].to_csv('C:/Users/User/Desktop/StudyData1/writeUp_data/mem4Data.csv')\n"
   ]
  },
  {
   "cell_type": "code",
   "execution_count": 7,
   "metadata": {
    "collapsed": true
   },
   "outputs": [],
   "source": [
    "def getIndivParticipation(grpSData):\n",
    "    grpMemContribVol = []\n",
    "    \n",
    "    for memData in grpSData:\n",
    "        memContribVol = memData['Word Count'].tolist()\n",
    "        memContribVolTotal= sum(memContribVol) \n",
    "        grpMemContribVol.append(memContribVolTotal)\n",
    "        \n",
    "    return grpMemContribVol\n",
    "\n"
   ]
  },
  {
   "cell_type": "code",
   "execution_count": null,
   "metadata": {
    "collapsed": true
   },
   "outputs": [],
   "source": []
  },
  {
   "cell_type": "code",
   "execution_count": 8,
   "metadata": {},
   "outputs": [],
   "source": [
    "grp1VolSet = getIndivParticipation(grp1Data_par_mem)\n",
    "grp2VolSet = getIndivParticipation(grp2Data_par_mem)\n",
    "grp3VolSet = getIndivParticipation(grp3Data_par_mem)\n",
    "grp4VolSet = getIndivParticipation(grp4Data_par_mem)\n",
    "grp5VolSet = getIndivParticipation(grp5Data_par_mem)\n",
    "\n",
    "allGroupsVolSet = [grp1VolSet,grp2VolSet,grp3VolSet, grp4VolSet,grp5VolSet]"
   ]
  },
  {
   "cell_type": "code",
   "execution_count": null,
   "metadata": {
    "collapsed": true
   },
   "outputs": [],
   "source": []
  },
  {
   "cell_type": "code",
   "execution_count": 9,
   "metadata": {},
   "outputs": [
    {
     "name": "stdout",
     "output_type": "stream",
     "text": [
      "226.5\n"
     ]
    }
   ],
   "source": [
    "def getGrpsMedianActivity(allGrps):\n",
    "    allGrpMedia = []\n",
    "    for grp in allGrps:\n",
    "        grpMed=np.median(grp)\n",
    "        allGrpMedia.append(grpMed)\n",
    "          \n",
    "    return allGrpMedia\n",
    "    \n",
    "allGrpMed =getGrpsMedianActivity(allGroupsVolSet)   \n",
    "\n",
    "print allGrpMed[4]"
   ]
  },
  {
   "cell_type": "code",
   "execution_count": 10,
   "metadata": {},
   "outputs": [
    {
     "name": "stdout",
     "output_type": "stream",
     "text": [
      "213.5\n"
     ]
    }
   ],
   "source": [
    "def allGrpsActivityMean(allGrps):\n",
    "    allGrpsMean=[]\n",
    "    for grp in allGrps:\n",
    "        tempMean = np.mean(grp)\n",
    "        allGrpsMean.append(tempMean)\n",
    "    \n",
    "    return allGrpsMean\n",
    "\n",
    "grpsMeanSet = allGrpsActivityMean(allGroupsVolSet)\n",
    "\n",
    "print grpsMeanSet[2]"
   ]
  },
  {
   "cell_type": "code",
   "execution_count": 11,
   "metadata": {
    "collapsed": true
   },
   "outputs": [],
   "source": [
    "def wcGiniCoefModel2(allGrpsWCVolSet):\n",
    "    meanSet=allGrpsActivityMean(allGrpsWCVolSet)\n",
    "    allGrpsGiniCoef = []\n",
    "    for data, mean in zip(allGrpsWCVolSet, meanSet):\n",
    "        summ=0\n",
    "        for i in data:\n",
    "            n=data.index(i)+1    \n",
    "            for j in data[n:]:\n",
    "                summ+=abs(i-j)\n",
    "            GiniCoefMeasure = summ/(2*(len(data)**2)*mean)\n",
    "        \n",
    "        allGrpsGiniCoef.append(GiniCoefMeasure)\n",
    "    return allGrpsGiniCoef"
   ]
  },
  {
   "cell_type": "code",
   "execution_count": 12,
   "metadata": {},
   "outputs": [
    {
     "name": "stdout",
     "output_type": "stream",
     "text": [
      "0.160416666667\n"
     ]
    }
   ],
   "source": [
    "giniSet = wcGiniCoefModel2(allGroupsVolSet)\n",
    "\n",
    "print giniSet[4]"
   ]
  },
  {
   "cell_type": "code",
   "execution_count": 13,
   "metadata": {},
   "outputs": [
    {
     "name": "stdout",
     "output_type": "stream",
     "text": [
      "1411.94805195\n"
     ]
    }
   ],
   "source": [
    "def wcGiniCoefColabMeasure(grpSGiniCoef, grpSmedianActivity):\n",
    "    colabMeasureBetweenGrps = []\n",
    "    for symmetry, median in zip(grpSGiniCoef, grpSmedianActivity):\n",
    "        colabLevel = median/symmetry\n",
    "        \n",
    "        colabMeasureBetweenGrps.append(colabLevel)\n",
    "    \n",
    "    \n",
    "    return colabMeasureBetweenGrps\n",
    "\n",
    "\n",
    "betweenGrpsMeasure= wcGiniCoefColabMeasure(giniSet, allGrpMed)\n",
    "\n",
    "print betweenGrpsMeasure[4]"
   ]
  },
  {
   "cell_type": "code",
   "execution_count": 21,
   "metadata": {},
   "outputs": [
    {
     "name": "stdout",
     "output_type": "stream",
     "text": [
      "842.237288136\n",
      "1029.93814433\n",
      "1537.95575221\n",
      "796.24\n",
      "1411.94805195\n"
     ]
    }
   ],
   "source": [
    "print betweenGrpsMeasure[0]\n",
    "print betweenGrpsMeasure[1]\n",
    "print betweenGrpsMeasure[2]\n",
    "print betweenGrpsMeasure[3]\n",
    "print betweenGrpsMeasure[4]"
   ]
  },
  {
   "cell_type": "code",
   "execution_count": 17,
   "metadata": {
    "collapsed": true
   },
   "outputs": [],
   "source": [
    "def plotWithin_Between_Grp(grpSColabL,grpSMemWC):\n",
    "    \n",
    "    fig = plt.figure()\n",
    "    \n",
    "    grpSColabLevel = grpSColabL\n",
    "    grp1MemWC = grpSMemWC[0]\n",
    "    grp2MemWC = grpSMemWC[1]\n",
    "    grp3MemWC = grpSMemWC[2]\n",
    "    grp4MemWC = grpSMemWC[3]\n",
    "    grp5MemWC = grpSMemWC[4]\n",
    "    #Get the row lenght of group with maximum row\n",
    "    x = ['Group 1', 'Group 2', 'Group 3', 'Group 4', 'Group 5']\n",
    "    betweenGrp=[grpSColabLevel[0], grpSColabLevel[1], grpSColabLevel[2], grpSColabLevel[3], grpSColabLevel[4]]\n",
    "    x_pos = [j for j, _ in enumerate(grpSColabLevel)]\n",
    "        \n",
    "    #g1Mem=withinGroupIndivCon(selectFromGroup(grList[0],i), allGpMem[0])\n",
    "    #g2Mem=withinGroupIndivCon(selectFromGroup(grList[1],i), allGpMem[1])\n",
    "    #g3Mem=withinGroupIndivCon(selectFromGroup(grList[2],i), allGpMem[2])\n",
    "    #g4Mem=withinGroupIndivCon(selectFromGroup(grList[3],i), allGpMem[3])\n",
    "    #g5Mem=withinGroupIndivCon(selectFromGroup(grList[4],i), allGpMem[4])\n",
    "    \n",
    "    allMem1=[grp1MemWC[0], grp2MemWC[0], grp3MemWC[0], grp4MemWC[0], grp5MemWC[0]]\n",
    "    allMem2=[grp1MemWC[1], grp2MemWC[1], grp3MemWC[1], grp4MemWC[1], grp5MemWC[1]]\n",
    "    allMem3=[grp1MemWC[2], grp2MemWC[2], grp3MemWC[2], grp4MemWC[2], grp5MemWC[2]]\n",
    "    allMem4=[grp1MemWC[3], grp2MemWC[3], grp2MemWC[3], grp4MemWC[3], grp5MemWC[3]]\n",
    "        \n",
    "    plotList = [allMem1, allMem2, allMem3, allMem4]\n",
    "        \n",
    "    N = 5\n",
    "    ind = np.arange(N) \n",
    "    width = 0.2  \n",
    "        \n",
    "    plt.subplot(2, 1, 1) \n",
    "    #plt.bar(x_pos, grpList, color='green')\n",
    "    barList= plt.bar(x_pos, grpSColabLevel)\n",
    "    barList[0].set_color('g')\n",
    "    barList[1].set_color('r')\n",
    "    barList[2].set_color('b')\n",
    "    barList[3].set_color('y')\n",
    "    barList[4].set_color('c')\n",
    "    plt.xlabel(\"Groups\")\n",
    "        #plt.ylabel(\"Group Colab. \\n Measure\")\n",
    "        #plt.title(\"Between-groups measure of colabo. &\\n Within-group measure of contrib.\")\n",
    "    plt.xticks(x_pos, x)\n",
    "        \n",
    "    plt.subplot(2, 1, 2)\n",
    "    plt.bar(ind, plotList[0], width, label='M1')\n",
    "    plt.bar(ind + width, plotList[1], width, label='M2')\n",
    "    plt.bar(ind + width+width, plotList[2], width,label='M3')\n",
    "    plt.bar(ind + width+width+width, plotList[3], width,label='M4')\n",
    "        \n",
    "        \n",
    "        #plt.ylabel('Indiv. Contrib. \\n Measure')\n",
    "        #plt.title('Within Group visualization of individuals contribution')\n",
    "\n",
    "    plt.xticks(ind + width / 2, ('Group1', 'Group2', 'Group3', 'Group4', 'Group5'))\n",
    "    #plt.savefig('C:/Users/User/Desktop/StudyData1/gcmsView.jpg')\n",
    "    plt.legend(loc='best') \n",
    "        \n",
    "    display.clear_output(wait=True)\n",
    "    display.display(plt.show())\n",
    "\n",
    "                            "
   ]
  },
  {
   "cell_type": "code",
   "execution_count": 18,
   "metadata": {},
   "outputs": [
    {
     "data": {
      "image/png": "[encoded data removed]",
      "text/plain": [
       "<matplotlib.figure.Figure at 0xe0ed1d0>"
      ]
     },
     "metadata": {},
     "output_type": "display_data"
    },
    {
     "data": {
      "text/plain": [
       "None"
      ]
     },
     "metadata": {},
     "output_type": "display_data"
    }
   ],
   "source": [
    "plotWithin_Between_Grp(betweenGrpsMeasure,allGroupsVolSet)"
   ]
  },
  {
   "cell_type": "code",
   "execution_count": null,
   "metadata": {
    "collapsed": true
   },
   "outputs": [],
   "source": [
    "def selectFromGroup(gr, num):\n",
    "    grpO = gr\n",
    "    grpDataL=gr.shape[0]  #get the number of rows in group data\n",
    "    \n",
    "    if num<grpDataL:  #check if 'num' is not more that the number of rows in groupData\n",
    "        grp=gr.iloc[0:num] # get first 'num' rows of dataframe\n",
    "        #grp['Word Count']=0\n",
    "        return grp\n",
    "    else:\n",
    "        return grpO\n"
   ]
  },
  {
   "cell_type": "code",
   "execution_count": null,
   "metadata": {
    "collapsed": true
   },
   "outputs": [],
   "source": [
    "def compactPlotWcGCMS(allGrps, allMemList):\n",
    "    #getMemDiscourseData2(group, memList)\n",
    "    \n",
    "    grp1Data_par_mem= getMemDiscourseData2(allGrps[0], allMemList[0])\n",
    "    grp2Data_par_mem= getMemDiscourseData2(allGrps[1], allMemList[1])\n",
    "    grp3Data_par_mem= getMemDiscourseData2(allGrps[2], allMemList[2])\n",
    "    grp4Data_par_mem= getMemDiscourseData2(allGrps[3], allMemList[3])\n",
    "    grp5Data_par_mem= getMemDiscourseData2(allGrps[4], allMemList[4])\n",
    "    \n",
    "    #getIndivParticipation(grpSData)\n",
    "    \n",
    "    \n",
    "    grp1VolSet = getIndivParticipation(grp1Data_par_mem)\n",
    "    grp2VolSet = getIndivParticipation(grp2Data_par_mem)\n",
    "    grp3VolSet = getIndivParticipation(grp3Data_par_mem)\n",
    "    grp4VolSet = getIndivParticipation(grp4Data_par_mem)\n",
    "    grp5VolSet = getIndivParticipation(grp5Data_par_mem)\n",
    "\n",
    "    allGroupsVolSet = [grp1VolSet,grp2VolSet,grp3VolSet, grp4VolSet,grp5VolSet]\n",
    "    \n",
    "    allGrpMed =getGrpsMedianActivity(allGroupsVolSet)\n",
    "    \n",
    "    grpsMeanSet = allGrpsActivityMean(allGroupsVolSet)\n",
    "    \n",
    "    giniSet = wcGiniCoefModel2(allGroupsVolSet)\n",
    "    \n",
    "    betweenGrpsMeasure= wcGiniCoefColabMeasure(giniSet, allGrpMed)\n",
    "    \n",
    "    plotWithin_Between_Grp(betweenGrpsMeasure,allGroupsVolSet)"
   ]
  },
  {
   "cell_type": "code",
   "execution_count": null,
   "metadata": {
    "collapsed": true
   },
   "outputs": [],
   "source": [
    "grpS =[group1_1, group2_1, group3_1, group4_1, group5_1]\n",
    "memSList =[grp1MemList, grp2MemList, grp3MemList, grp4MemList, grp5MemList]"
   ]
  },
  {
   "cell_type": "code",
   "execution_count": null,
   "metadata": {},
   "outputs": [],
   "source": [
    "compactPlotWcGCMS(grpS, memSList)"
   ]
  },
  {
   "cell_type": "code",
   "execution_count": null,
   "metadata": {
    "collapsed": true
   },
   "outputs": [],
   "source": []
  },
  {
   "cell_type": "code",
   "execution_count": null,
   "metadata": {
    "collapsed": true
   },
   "outputs": [],
   "source": []
  },
  {
   "cell_type": "code",
   "execution_count": null,
   "metadata": {
    "collapsed": true
   },
   "outputs": [],
   "source": []
  },
  {
   "cell_type": "code",
   "execution_count": null,
   "metadata": {
    "collapsed": true
   },
   "outputs": [],
   "source": []
  },
  {
   "cell_type": "code",
   "execution_count": null,
   "metadata": {
    "collapsed": true
   },
   "outputs": [],
   "source": []
  },
  {
   "cell_type": "code",
   "execution_count": null,
   "metadata": {
    "collapsed": true
   },
   "outputs": [],
   "source": []
  },
  {
   "cell_type": "code",
   "execution_count": null,
   "metadata": {},
   "outputs": [],
   "source": []
  },
  {
   "cell_type": "code",
   "execution_count": null,
   "metadata": {
    "collapsed": true
   },
   "outputs": [],
   "source": [
    "grpList,timeList =  selectFromGroup(grpS, memSList, 5)\n",
    "\n"
   ]
  },
  {
   "cell_type": "code",
   "execution_count": null,
   "metadata": {},
   "outputs": [],
   "source": [
    "plt.plot(timeList, grpList[0], color='g', label ='group 1')\n",
    "plt.plot(timeList, grpList[1], color='r', label ='group 2')\n",
    "plt.plot(timeList, grpList[2], color='b', label='group 3')\n",
    "plt.plot(timeList, grpList[3], color='y', label='group 4')\n",
    "plt.plot(timeList, grpList[4], color='c', label='group 5')\n",
    "\n",
    "#plt.plot(year, pop_india, color='orange')\n",
    "plt.xlabel('Time intervals')\n",
    "plt.ylabel('Collaboration Level')\n",
    "#plt.title('Real-time measure of collaboration')\n",
    "\n",
    "plt.legend()\n",
    "#plt.savefig('C:/Users/User/Desktop/Study3/StudyData1/realTimeGroupColab.jpg') \n",
    "plt.show()\n"
   ]
  },
  {
   "cell_type": "code",
   "execution_count": null,
   "metadata": {
    "collapsed": true
   },
   "outputs": [],
   "source": []
  }
 ],
 "metadata": {
  "kernelspec": {
   "display_name": "Python 2",
   "language": "python",
   "name": "python2"
  },
  "language_info": {
   "codemirror_mode": {
    "name": "ipython",
    "version": 2
   },
   "file_extension": ".py",
   "mimetype": "text/x-python",
   "name": "python",
   "nbconvert_exporter": "python",
   "pygments_lexer": "ipython2",
   "version": "2.7.13"
  }
 },
 "nbformat": 4,
 "nbformat_minor": 2
}

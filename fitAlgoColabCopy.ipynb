{
 "cells": [
  {
   "cell_type": "code",
   "execution_count": 1,
   "metadata": {
    "collapsed": true
   },
   "outputs": [],
   "source": [
    "#1: Gets all in-built function needed\n",
    "import pandas as pd\n",
    "import copy\n",
    "import operator\n",
    "import xlwt \n",
    "from xlwt import Workbook"
   ]
  },
  {
   "cell_type": "code",
   "execution_count": 2,
   "metadata": {
    "collapsed": true
   },
   "outputs": [],
   "source": [
    "#2: Get customer data in excel file into python dataframe\n",
    "def getCustomerDataFilePath(in_customerDataFilePath):\n",
    "    \n",
    "    cusData = pd.read_excel(in_customerDataFilePath)\n",
    "    return cusData"
   ]
  },
  {
   "cell_type": "code",
   "execution_count": 3,
   "metadata": {},
   "outputs": [
    {
     "name": "stdout",
     "output_type": "stream",
     "text": [
      "Enter path to customer measurement data:C:\\Users\\User\\Desktop\\PejuWork\\sample.xls\n"
     ]
    }
   ],
   "source": [
    "#3:Get path to file from user\n",
    "#filePath = \"C:\\Users\\User\\Desktop\\PejuWork\\sample.xls\"\n",
    "customerDataFilePath=raw_input(\"Enter path to customer measurement data:\")"
   ]
  },
  {
   "cell_type": "code",
   "execution_count": 4,
   "metadata": {
    "collapsed": true
   },
   "outputs": [],
   "source": [
    "#4: extract customer data from dataframe, prepare a dictionary labelling each custormer from 0-99\n",
    "def extractDataDictAndKeys(in_cusData):\n",
    "    #Get number of rows in custormerData\n",
    "    numberOfCustormer = len(in_cusData)\n",
    "    \n",
    "    custDict = {}\n",
    "    \n",
    "    #Create dictionary with keys numbering each persons measurement\n",
    "    for a in range (0, numberOfCustormer):\n",
    "        custDict[a] = []\n",
    "        \n",
    "    custormerDataList = in_cusData.values.tolist()\n",
    "    \n",
    "    customerDataKey = custDict.keys() \n",
    "    \n",
    "    for i in customerDataKey:\n",
    "        custDict[i]=custormerDataList[i]\n",
    "        \n",
    "    return custDict, customerDataKey"
   ]
  },
  {
   "cell_type": "code",
   "execution_count": 5,
   "metadata": {
    "collapsed": true
   },
   "outputs": [],
   "source": [
    "def toleranceToFloat(toleranceDimList):\n",
    "    toleranceDimList = toleranceDimList.split(\",\")\n",
    "    \n",
    "    tolFloat=[]\n",
    "    for val in toleranceDimList:\n",
    "        tVal = float(val)\n",
    "        tolFloat.append(tVal)\n",
    "    \n",
    "    return tolFloat"
   ]
  },
  {
   "cell_type": "code",
   "execution_count": 6,
   "metadata": {},
   "outputs": [
    {
     "name": "stdout",
     "output_type": "stream",
     "text": [
      "Enter tolerance value for each dimension3,2,5.08,5.08,5.08\n"
     ]
    }
   ],
   "source": [
    "#Enter tolerance for each dimension of measurement e.g.3,2,5.08,5.08,5.08 \n",
    "tolerance=toleranceToFloat(raw_input(\"Enter tolerance value for each dimension\"))"
   ]
  },
  {
   "cell_type": "code",
   "execution_count": null,
   "metadata": {
    "collapsed": true
   },
   "outputs": [],
   "source": []
  },
  {
   "cell_type": "code",
   "execution_count": 7,
   "metadata": {
    "collapsed": true
   },
   "outputs": [],
   "source": [
    "def compare_Xij_Xkj(xi, xk, in_tolerance):\n",
    "    outpList=[]\n",
    "    for xij, xkj, t in zip(xi, xk, in_tolerance):\n",
    "        temp = abs(xij - xkj)\n",
    "        if(temp<=t):\n",
    "            outpList.append(1)\n",
    "        else:\n",
    "            outpList.append(0)\n",
    "    return outpList "
   ]
  },
  {
   "cell_type": "code",
   "execution_count": 8,
   "metadata": {
    "collapsed": true
   },
   "outputs": [],
   "source": [
    "def compute_wikj(in_inputData_Dict, in_tolerance):\n",
    "    wikj_Dict ={}\n",
    "    for key1, value1 in in_inputData_Dict.iteritems():\n",
    "        xij_xik={}\n",
    "        for key2, value2 in in_inputData_Dict.iteritems():\n",
    "            temp = compare_Xij_Xkj(value1, value2, tolerance)\n",
    "            xij_xik[key2]=temp\n",
    "    \n",
    "        wikj_Dict[key1]= xij_xik\n",
    "    \n",
    "    return wikj_Dict\n",
    "             "
   ]
  },
  {
   "cell_type": "code",
   "execution_count": 9,
   "metadata": {
    "collapsed": true
   },
   "outputs": [],
   "source": [
    "def compute_matrixTbymatrix(m1):\n",
    "    sumN=0\n",
    "    for e1 in m1:\n",
    "        sumN+=e1*e1\n",
    "    \n",
    "    return sumN"
   ]
  },
  {
   "cell_type": "code",
   "execution_count": 10,
   "metadata": {
    "collapsed": true
   },
   "outputs": [],
   "source": [
    "def compute_ir_Dict(in_B_ik):\n",
    "    rik_All={}\n",
    "    for key1, value1 in in_B_ik.iteritems():\n",
    "        rik={}\n",
    "        for key2, value2 in value1.iteritems():\n",
    "            num = compute_matrixTbymatrix(value2)\n",
    "            deNum=compute_matrixTbymatrix(value1[key1])\n",
    "            rik_temp = float(float(num)/float(deNum))\n",
    "            rik[key2]=rik_temp\n",
    "        rik_All[key1]=rik\n",
    "    return rik_All"
   ]
  },
  {
   "cell_type": "code",
   "execution_count": 11,
   "metadata": {
    "collapsed": true
   },
   "outputs": [],
   "source": [
    "def computer_Ri_ForAll_i(in_r_ik_ForAll_i):\n",
    "    R_i_Dic={}\n",
    "    for key1, value1 in in_r_ik_ForAll_i.iteritems():\n",
    "    #for i in range(len(in_r_ik_ForAll_i)):\n",
    "        R_i_sum=0\n",
    "        for key2, value2 in value1.iteritems():\n",
    "        #for k in range(len(in_r_ik_ForAll_i[i])):\n",
    "            if(key1!=key2):\n",
    "                R_i_sum+=value1[key2]\n",
    "        #R_i_Dic[key1]=round(R_i_sum,2)\n",
    "        R_i_Dic[key1]=round(R_i_sum,3)\n",
    "    \n",
    "    return R_i_Dic  "
   ]
  },
  {
   "cell_type": "code",
   "execution_count": 12,
   "metadata": {
    "collapsed": true
   },
   "outputs": [],
   "source": [
    "def compute_Ri_ideal(Dict):\n",
    "    List=[]\n",
    "    maxList=[]\n",
    "    List=Dict.values()\n",
    "    \n",
    "    getMax=max(List)\n",
    "    for key, value in Dict.iteritems():\n",
    "    #for j in range(len(Dict)):\n",
    "        if(value==getMax):\n",
    "            maxList.append(key) \n",
    "            break\n",
    "    return maxList"
   ]
  },
  {
   "cell_type": "code",
   "execution_count": 13,
   "metadata": {
    "collapsed": true
   },
   "outputs": [],
   "source": [
    "def returnCluster(in_rik_dict, in_R_i_Ideal):\n",
    "    k_Dict={ }\n",
    "\n",
    "    clusterList = []\n",
    "    clusterList.append(in_R_i_Ideal[0])\n",
    "    for key, value in in_rik_dict[in_R_i_Ideal[0]].iteritems():\n",
    "        if(key!=in_R_i_Ideal[0]):\n",
    "            k_Dict[key]=value\n",
    "\n",
    "    k_val_List=k_Dict.values()        \n",
    "\n",
    "    maxRel = max(k_val_List)\n",
    "\n",
    "    for key, value in k_Dict.iteritems():\n",
    "        if(value==maxRel):\n",
    "            clusterList.append(key)\n",
    "        \n",
    "    return clusterList"
   ]
  },
  {
   "cell_type": "code",
   "execution_count": 14,
   "metadata": {
    "collapsed": true
   },
   "outputs": [],
   "source": [
    "def cluster_ri_rel(in_rik_dict, in_cluster):\n",
    "    cluster_Rel_Dict={}\n",
    "    for key, value in in_rik_dict.iteritems():\n",
    "        r_i_rel = {}\n",
    "        if(key in in_cluster):\n",
    "            for key2, value2 in value.iteritems():\n",
    "                if(key2 in in_cluster):\n",
    "                    r_i_rel[key2]=value2\n",
    "            cluster_Rel_Dict[key]=r_i_rel       \n",
    "\n",
    "    return cluster_Rel_Dict"
   ]
  },
  {
   "cell_type": "code",
   "execution_count": 15,
   "metadata": {
    "collapsed": true
   },
   "outputs": [],
   "source": [
    "def getPercentageFit(in_ri_rel_cluster):\n",
    "    sumNList=[]\n",
    "    for key, value in in_ri_rel_cluster.iteritems():\n",
    "        temp = value.values()\n",
    "        tempSum= round(sum(temp),2)\n",
    "        sumNList.append(tempSum)\n",
    "    netSum = sum(sumNList)\n",
    "\n",
    "    l=len(sumNList)\n",
    "    netSum = netSum-l\n",
    "    perFit = 100*((netSum)/(l*(l-1)))\n",
    "\n",
    "    return round(perFit,2)"
   ]
  },
  {
   "cell_type": "code",
   "execution_count": 16,
   "metadata": {
    "collapsed": true
   },
   "outputs": [],
   "source": [
    "def computerAggLossIndex(in_clusterList,in_custDict):\n",
    "    sumOut =[]\n",
    "    result=-1\n",
    "    i= in_clusterList[0]\n",
    "    #i_index=in_clusterList[0]\n",
    "    t_sum=0\n",
    "    sumL=[]\n",
    "    for k in in_clusterList:\n",
    "        sum2=0\n",
    "        if (k!=i):\n",
    "            #k_index=in_clusterList[i]\n",
    "            \n",
    "            for v1, v2 in zip (in_custDict[k], in_custDict[i]):\n",
    "                sum2+=(v1- v2)**2\n",
    "            \n",
    "        sumL.append(sum2)\n",
    "    t_sum=(sum(sumL))**0.5\n",
    "    if (len(in_clusterList)!=0):\n",
    "        result = (t_sum/len(in_clusterList))\n",
    "\n",
    "    return round(result,2)"
   ]
  },
  {
   "cell_type": "code",
   "execution_count": 17,
   "metadata": {
    "collapsed": true
   },
   "outputs": [],
   "source": [
    "def getAggLoss(in_cluster, in_custDict, in_R_i_Ideal):\n",
    "    netSumN = []\n",
    "    for value in in_cluster:\n",
    "        sumN = 0\n",
    "        for v1, v2 in zip (in_custDict[in_R_i_Ideal[0]], in_custDict[value]):\n",
    "            sumN+= (v1-v2)**2\n",
    "    \n",
    "        sumN =sumN**0.5\n",
    "        netSumN.append(sumN)\n",
    "\n",
    "    \n",
    "    result =  (sum(netSumN))/len(netSumN)\n",
    "    \n",
    "    return round(result,3)"
   ]
  },
  {
   "cell_type": "code",
   "execution_count": 18,
   "metadata": {
    "collapsed": true
   },
   "outputs": [],
   "source": [
    "def getLastCluster (in_R_i_ForAll_i):\n",
    "    listLastCluster=[]\n",
    "    for key, value in in_R_i_ForAll_i.iteritems():\n",
    "        listLastCluster.append(key)\n",
    "\n",
    "    return listLastCluster"
   ]
  },
  {
   "cell_type": "code",
   "execution_count": 19,
   "metadata": {
    "collapsed": true
   },
   "outputs": [],
   "source": [
    "def resetData(in_cluster, in_custDict):\n",
    "    newDict = {}\n",
    "    for key, value in in_custDict.iteritems():\n",
    "        if (key not in in_cluster):\n",
    "            \n",
    "            newDict[key]=value\n",
    "            \n",
    "            \n",
    "    return newDict    "
   ]
  },
  {
   "cell_type": "code",
   "execution_count": 20,
   "metadata": {
    "collapsed": true
   },
   "outputs": [],
   "source": [
    "def recordData(in_cluster,in_percentageFit,in_aggLoss):\n",
    "    records=[\"ClusterKey\", \"DegreeFit\", \"AggLoss\"]\n",
    "    clusterDict = {}\n",
    "    for a in records:\n",
    "        clusterDict[a] = []\n",
    "\n",
    "    clusterDict[\"ClusterKey\"]=in_cluster\n",
    "    clusterDict[\"DegreeFit\"]=in_percentageFit\n",
    "    clusterDict[\"AggLoss\"]= in_aggLoss\n",
    "    \n",
    "    return clusterDict"
   ]
  },
  {
   "cell_type": "code",
   "execution_count": 21,
   "metadata": {
    "collapsed": true
   },
   "outputs": [],
   "source": [
    "def tryRun(in_custDict, in_tolerance, in_start):\n",
    "    result = {}\n",
    "    Bik_dict = compute_wikj(in_custDict, in_tolerance)\n",
    "    rik_dict = compute_ir_Dict(Bik_dict)\n",
    "    R_i_ForAll_i = computer_Ri_ForAll_i(rik_dict)\n",
    "    R_i_Ideal = compute_Ri_ideal(R_i_ForAll_i)\n",
    "    cluster = returnCluster(rik_dict, R_i_Ideal)\n",
    "    ri_rel_cluster = cluster_ri_rel(rik_dict, cluster)\n",
    "    percentageFit = getPercentageFit(ri_rel_cluster)   \n",
    "    aggLoss = getAggLoss(cluster, in_custDict, R_i_Ideal)\n",
    "    \n",
    "    result = recordData(cluster,percentageFit,aggLoss)\n",
    "    \n",
    "    data = resetData(cluster, in_custDict)\n",
    "   \n",
    "    return result, data"
   ]
  },
  {
   "cell_type": "code",
   "execution_count": 22,
   "metadata": {
    "collapsed": true
   },
   "outputs": [],
   "source": [
    "def LastRun(in_custDict, in_tolerance, in_start):\n",
    "    result = {}\n",
    "    Bik_dict = compute_wikj(in_custDict, in_tolerance)\n",
    "    rik_dict = compute_ir_Dict(Bik_dict)\n",
    "    R_i_ForAll_i = computer_Ri_ForAll_i(rik_dict)\n",
    "    R_i_Ideal = compute_Ri_ideal(R_i_ForAll_i)\n",
    "    cluster = getLastCluster (R_i_ForAll_i)\n",
    "    ri_rel_cluster = cluster_ri_rel(rik_dict, cluster)\n",
    "    percentageFit = getPercentageFit(ri_rel_cluster)   \n",
    "    aggLoss = getAggLoss(cluster, in_custDict, R_i_Ideal)\n",
    "    \n",
    "    result = recordData(cluster,percentageFit,aggLoss)\n",
    "    \n",
    "    data = resetData(cluster, in_custDict)\n",
    "   \n",
    "    return result, data"
   ]
  },
  {
   "cell_type": "code",
   "execution_count": 23,
   "metadata": {
    "collapsed": true
   },
   "outputs": [],
   "source": [
    "def runRecursive(in_custDict, in_tolerance, in_start, cluster_num, in_result):\n",
    "    \n",
    "    getTest, dataTest = tryRun(in_custDict, in_tolerance, in_start)\n",
    "    if (in_start==cluster_num):\n",
    "        getTest, dataTest=LastRun(in_custDict, in_tolerance, in_start)\n",
    "        in_result[in_start]=getTest\n",
    "    else:\n",
    "        in_result[in_start]=getTest\n",
    "        in_start+=1\n",
    "        runRecursive(dataTest, in_tolerance, in_start, cluster_num, in_result)\n",
    "        \n",
    "    return in_result"
   ]
  },
  {
   "cell_type": "code",
   "execution_count": 24,
   "metadata": {
    "collapsed": true
   },
   "outputs": [],
   "source": [
    "def LabelToList(labelRaw):\n",
    "    labels = labelRaw.split(\",\")\n",
    "    \n",
    "    return labels"
   ]
  },
  {
   "cell_type": "code",
   "execution_count": 25,
   "metadata": {
    "collapsed": true
   },
   "outputs": [],
   "source": [
    "def getOutputToExcel(in_clusters, in_OutputLabel, in_outFilePath):\n",
    "\n",
    "    wb = Workbook() \n",
    "    for key, value in clusters.iteritems():\n",
    "        outputSheet = wb.add_sheet(\"sheet\"+str(key))\n",
    "        setSheet(outputSheet, OutputLabel)\n",
    "        for j in range(len(value)):\n",
    "            outputSheet.write(j+1, 0, j+1)\n",
    "            for i in range(len(value[j])):\n",
    "            #print j, \"sheet\"+str(key), value[j][i]\n",
    "                outputSheet.write(j+1, i+1, value[j][i])\n",
    "        outputSheet.write(1, len(OutputLabel)+2, degFit[key])\n",
    "        outputSheet.write(1, len(OutputLabel)+3, aggLoss[key])\n",
    "                \n",
    "\n",
    "    #wb.save('C:/Users/User/Desktop/PejuWork/test2.xls')\n",
    "    wb.save(in_outFilePath)"
   ]
  },
  {
   "cell_type": "code",
   "execution_count": 26,
   "metadata": {
    "collapsed": true
   },
   "outputs": [],
   "source": [
    "def setResult(in_result, in_inputData_Dict):\n",
    "    ClusterDict={}\n",
    "    AggLossDict={}\n",
    "    DegreeFitDict={}\n",
    "    for key, value in in_result.iteritems():\n",
    "        clusterList=[]\n",
    "        for key2, value2 in value.iteritems():\n",
    "            if (key2==\"ClusterKey\"):\n",
    "                for i in value2:\n",
    "                    clusterList.append(in_inputData_Dict[i])\n",
    "    \n",
    "            if (key2==\"DegreeFit\"):\n",
    "                DegreeFitDict[key] = value2\n",
    "            if (key2==\"AggLoss\"):\n",
    "                AggLossDict[key]=value2\n",
    "        ClusterDict[key]=clusterList\n",
    "\n",
    "    return ClusterDict,DegreeFitDict,AggLossDict"
   ]
  },
  {
   "cell_type": "code",
   "execution_count": 27,
   "metadata": {
    "collapsed": true
   },
   "outputs": [],
   "source": [
    "def setSheet(sheet, in_dimLabel):\n",
    "    for i in range(len(in_dimLabel)):\n",
    "        sheet.write(0, i, in_dimLabel[i]) \n",
    "     \n",
    "    sheet.write(0, len(in_dimLabel)+2, 'DegreeFit')\n",
    "    sheet.write(0, len(in_dimLabel)+3, 'AggLoss')"
   ]
  },
  {
   "cell_type": "code",
   "execution_count": 28,
   "metadata": {
    "collapsed": true
   },
   "outputs": [],
   "source": [
    "cusData=getCustomerDataFilePath(customerDataFilePath)"
   ]
  },
  {
   "cell_type": "code",
   "execution_count": 29,
   "metadata": {
    "collapsed": true
   },
   "outputs": [],
   "source": [
    "custDict,customerDataKey = extractDataDictAndKeys(cusData)\n",
    "start = 1\n",
    "result={}"
   ]
  },
  {
   "cell_type": "code",
   "execution_count": 30,
   "metadata": {
    "collapsed": true
   },
   "outputs": [],
   "source": [
    "#result, data = tryRun(custDict, tolerance, start)"
   ]
  },
  {
   "cell_type": "code",
   "execution_count": 31,
   "metadata": {
    "collapsed": true
   },
   "outputs": [],
   "source": [
    "result = runRecursive(custDict, tolerance, 1, 5, result)"
   ]
  },
  {
   "cell_type": "code",
   "execution_count": 32,
   "metadata": {
    "collapsed": true
   },
   "outputs": [],
   "source": [
    "#print result"
   ]
  },
  {
   "cell_type": "code",
   "execution_count": 33,
   "metadata": {},
   "outputs": [
    {
     "name": "stdout",
     "output_type": "stream",
     "text": [
      "Enter labels for each dimension'Length(cm)','Waist(cm)','Thigh(cm)','Hip(cm)','Bottom girth(cm)'\n"
     ]
    }
   ],
   "source": [
    "#Enter the lables for each dimension of measurement, separated by (,):\n",
    "#e.g. 'Length(cm)','Waist(cm)','Thigh(cm)','Hip(cm)','Bottom girth(cm)' \n",
    "OutputLabel=LabelToList(raw_input(\"Enter labels for each dimension\"))"
   ]
  },
  {
   "cell_type": "code",
   "execution_count": 34,
   "metadata": {
    "collapsed": true
   },
   "outputs": [],
   "source": [
    "clusters, degFit,aggLoss = setResult(result, custDict) "
   ]
  },
  {
   "cell_type": "code",
   "execution_count": 35,
   "metadata": {},
   "outputs": [
    {
     "name": "stdout",
     "output_type": "stream",
     "text": [
      "Enter path to customer measurement data:C:\\Users\\User\\Desktop\\PejuWork\\test5.xls\n"
     ]
    }
   ],
   "source": [
    "#Enter path for your output file: where your output will be put in excel\n",
    "#e.g. C:\\Users\\User\\Desktop\\PejuWork\\test2.xls\n",
    "outFilePath=raw_input(\"Enter path to customer measurement data:\")"
   ]
  },
  {
   "cell_type": "code",
   "execution_count": 36,
   "metadata": {
    "collapsed": true
   },
   "outputs": [],
   "source": [
    "getOutputToExcel(clusters, OutputLabel, outFilePath)"
   ]
  },
  {
   "cell_type": "code",
   "execution_count": null,
   "metadata": {
    "collapsed": true
   },
   "outputs": [],
   "source": []
  },
  {
   "cell_type": "code",
   "execution_count": null,
   "metadata": {
    "collapsed": true
   },
   "outputs": [],
   "source": []
  },
  {
   "cell_type": "code",
   "execution_count": null,
   "metadata": {
    "collapsed": true
   },
   "outputs": [],
   "source": []
  },
  {
   "cell_type": "code",
   "execution_count": null,
   "metadata": {
    "collapsed": true
   },
   "outputs": [],
   "source": []
  },
  {
   "cell_type": "code",
   "execution_count": null,
   "metadata": {
    "collapsed": true
   },
   "outputs": [],
   "source": []
  },
  {
   "cell_type": "code",
   "execution_count": null,
   "metadata": {
    "collapsed": true
   },
   "outputs": [],
   "source": []
  },
  {
   "cell_type": "code",
   "execution_count": null,
   "metadata": {
    "collapsed": true
   },
   "outputs": [],
   "source": []
  },
  {
   "cell_type": "code",
   "execution_count": null,
   "metadata": {
    "collapsed": true
   },
   "outputs": [],
   "source": []
  }
 ],
 "metadata": {
  "kernelspec": {
   "display_name": "Python 2",
   "language": "python",
   "name": "python2"
  },
  "language_info": {
   "codemirror_mode": {
    "name": "ipython",
    "version": 2
   },
   "file_extension": ".py",
   "mimetype": "text/x-python",
   "name": "python",
   "nbconvert_exporter": "python",
   "pygments_lexer": "ipython2",
   "version": "2.7.13"
  }
 },
 "nbformat": 4,
 "nbformat_minor": 2
}

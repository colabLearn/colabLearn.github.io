{
 "cells": [
  {
   "cell_type": "code",
   "execution_count": 2,
   "metadata": {
    "collapsed": true
   },
   "outputs": [],
   "source": [
    "import pandas as pd\n",
    "import numpy as np\n",
    "from numpy import median\n",
    "import matplotlib.pyplot as plt\n",
    "import matplotlib.animation as animation\n",
    "import pylab as pl\n",
    "from IPython import display\n",
    "import time\n",
    "from matplotlib import animation\n",
    "from mpl_toolkits import mplot3d\n",
    "%matplotlib inline\n",
    "plt.style.use('ggplot')\n",
    "from pylab import figure, subplot, hist, xlim, show\n",
    "import psycopg2\n"
   ]
  },
  {
   "cell_type": "code",
   "execution_count": 3,
   "metadata": {
    "collapsed": true
   },
   "outputs": [],
   "source": [
    "def extractWordCounInContrib( groupData ):\n",
    "    group = groupData \n",
    "    group1_1 = pd.DataFrame(group['message'])\n",
    "    group1M_List=group1_1['message'].tolist()\n",
    "\n",
    "    wordCount = []\n",
    "    for x in group1M_List:\n",
    "        if (pd.isnull(x )):\n",
    "            text=0\n",
    "        else:\n",
    "            x = str(x)\n",
    "            text = len(x.split())\n",
    "        \n",
    "        wordCount.append(text) \n",
    "\n",
    "   \n",
    "    group[\"Word Count\"]= wordCount \n",
    "\n",
    "    return group"
   ]
  },
  {
   "cell_type": "code",
   "execution_count": 4,
   "metadata": {
    "collapsed": true
   },
   "outputs": [],
   "source": [
    "def getDataFromDatabase(groupName):\n",
    "    conn = psycopg2.connect(database=\"dcr579jl1mh56g\", user = \"tcuceyhvgqlejy\", password = \"2c8288a367bdc38450e89d9fc17b8f1319fac07c140f6bbb5f5339ee7ff984d5\", host = \"ec2-54-83-22-244.compute-1.amazonaws.com\", port = \"5432\")\n",
    "\n",
    "    #print \"Opened database successfully\"\n",
    "\n",
    "    cur = conn.cursor()\n",
    "\n",
    "    cur.execute(\"SELECT * from \"+groupName)\n",
    "    df = pd.DataFrame(cur.fetchall())\n",
    "    df.columns = ['id', 'message', 'time', 'username']\n",
    "    #df.columns = cur.keys()\n",
    "    #rows = cur.fetchall()\n",
    "    #print \"Operation done successfully\";\n",
    "    conn.close()\n",
    "    \n",
    "    df2 = extractWordCounInContrib(df)\n",
    "    return df2\n"
   ]
  },
  {
   "cell_type": "code",
   "execution_count": 5,
   "metadata": {
    "collapsed": true
   },
   "outputs": [],
   "source": [
    "group1_1 = getDataFromDatabase(\"s4group3\")\n",
    "group2_1 = getDataFromDatabase(\"s4group4\")\n",
    "group3_1 = getDataFromDatabase(\"s4group5\")\n",
    "group4_1 = getDataFromDatabase(\"s4group6\")\n",
    "group5_1 = getDataFromDatabase(\"s4group7\")\n",
    "group6_1 = getDataFromDatabase(\"s4group8\")\n",
    "group7_1 = getDataFromDatabase(\"s4group9\")\n",
    "group8_1 = getDataFromDatabase(\"s4group10\")\n",
    "group9_1 = getDataFromDatabase(\"s4group12\")\n",
    "group10_1 = getDataFromDatabase(\"s4group15\")"
   ]
  },
  {
   "cell_type": "code",
   "execution_count": 6,
   "metadata": {
    "collapsed": true
   },
   "outputs": [],
   "source": [
    "def getGiniCoef(group, memList):\n",
    "    #for a group of 4 members\n",
    "    #We capture contribution of each of the members\n",
    "    g_m1=group.loc[group['username'] == memList[0]]\n",
    "    g_m2=group.loc[group['username'] == memList[1]]\n",
    "    g_m3=group.loc[group['username'] == memList[2]]\n",
    "    g_m4=group.loc[group['username'] == memList[3]]\n",
    "    \n",
    "    contM1 =g_m1.shape[0]\n",
    "    contM2 =g_m2.shape[0]\n",
    "    contM3 =g_m3.shape[0]\n",
    "    contM4 =g_m4.shape[0]\n",
    "    \n",
    "    \n",
    "    #A list of contribution count by each member of the group\n",
    "    grpWC= [contM1, contM2, contM3, contM4]\n",
    "    \n",
    "    #Mean of members contrubtion\n",
    "    grpMean = np.mean(grpWC)\n",
    "    summ=0\n",
    "    #Caclute gini coeficient measure of symmetry of contributions within group\n",
    "    for i in grpWC:\n",
    "        n=grpWC.index(i)+1    \n",
    "        for j in grpWC[n:]:\n",
    "            summ+=abs(i-j)\n",
    "            \n",
    "    GiniCoefMeasure = summ/(2*(len(grpWC)**2)*grpMean)\n",
    "    \n",
    "    return  GiniCoefMeasure\n"
   ]
  },
  {
   "cell_type": "code",
   "execution_count": 7,
   "metadata": {
    "collapsed": true
   },
   "outputs": [],
   "source": [
    "def calGiniCoefAllGrps(grpList, allGrpMem):\n",
    "    giniCof1 = getGiniCoef(grpList[0], allGrpMem[0]) \n",
    "    giniCof2= getGiniCoef(grpList[1], allGrpMem[1])\n",
    "    giniCof3= getGiniCoef(grpList[2], allGrpMem[2])\n",
    "    giniCof4= getGiniCoef(grpList[3], allGrpMem[3])\n",
    "    giniCof5 = getGiniCoef(grpList[4], allGrpMem[4]) \n",
    "    giniCof6= getGiniCoef(grpList[5], allGrpMem[5])\n",
    "    giniCof7= getGiniCoef(grpList[6], allGrpMem[6])\n",
    "    giniCof8= getGiniCoef(grpList[7], allGrpMem[7])\n",
    "    giniCof9= getGiniCoef(grpList[8], allGrpMem[8])\n",
    "    giniCof10= getGiniCoef(grpList[9], allGrpMem[9])\n",
    "\n",
    "    #giniCof5= getGiniCoef(grpList[4], allGrpMem[4])\n",
    "    \n",
    "    return giniCof1,giniCof2,giniCof3,giniCof4,giniCof5,giniCof6,giniCof7,giniCof8,giniCof9,giniCof10  \n"
   ]
  },
  {
   "cell_type": "code",
   "execution_count": 8,
   "metadata": {
    "collapsed": true
   },
   "outputs": [],
   "source": [
    "def medianWordCount(group, memList):\n",
    "    \n",
    "    g_m1=group.loc[group['username'] == memList[0]]\n",
    "    g_m2=group.loc[group['username'] == memList[1]]\n",
    "    g_m3=group.loc[group['username'] == memList[2]]\n",
    "    g_m4=group.loc[group['username'] == memList[3]]\n",
    "        \n",
    "    g_m1WC = g_m1['Word Count'].tolist()\n",
    "    g_m2WC = g_m2['Word Count'].tolist()\n",
    "    g_m3WC = g_m3['Word Count'].tolist()\n",
    "    g_m4WC = g_m4['Word Count'].tolist()\n",
    "    \n",
    "    m1WC = sum(g_m1WC)\n",
    "    m2WC = sum(g_m2WC)\n",
    "    m3WC = sum(g_m3WC)\n",
    "    m4WC = sum(g_m4WC)\n",
    "    \n",
    "    grpMWC= [m1WC,m2WC, m3WC, m4WC]\n",
    "    \n",
    "    \n",
    "    return  median(grpMWC)\n",
    "\n"
   ]
  },
  {
   "cell_type": "code",
   "execution_count": 9,
   "metadata": {
    "collapsed": true
   },
   "outputs": [],
   "source": [
    "def calMedianWordCount4AllGrps(grList,allGpMem):\n",
    "        \n",
    "        grp1 = medianWordCount(grList[0], allGpMem[0])\n",
    "        grp2 = medianWordCount(grList[1], allGpMem[1])\n",
    "        grp3 = medianWordCount(grList[2], allGpMem[2])\n",
    "        grp4 = medianWordCount(grList[3], allGpMem[3])\n",
    "        grp5 = medianWordCount(grList[4], allGpMem[4])\n",
    "        grp6 = medianWordCount(grList[5], allGpMem[5])\n",
    "        grp7 = medianWordCount(grList[6], allGpMem[6])\n",
    "        grp8 = medianWordCount(grList[7], allGpMem[7])\n",
    "        grp9 = medianWordCount(grList[8], allGpMem[8])\n",
    "        grp10 = medianWordCount(grList[9], allGpMem[9])\n",
    "        #grp5 = medianWordCount(grList[4], allGpMem[4])\n",
    "        \n",
    "        return grp1,grp2,grp3,grp4,grp5,grp6,grp7,grp8,grp9,grp10    \n"
   ]
  },
  {
   "cell_type": "code",
   "execution_count": 10,
   "metadata": {
    "collapsed": true
   },
   "outputs": [],
   "source": [
    "def calColabLevel(grList,allGpMem):\n",
    "    gCGrp1,gCGrp2,gCGrp3,gCGrp4,gCGrp5,gCGrp6,gCGrp7,gCGrp8,gCGrp9,gCGrp10=calGiniCoefAllGrps(grList, allGpMem)\n",
    "    \n",
    "    mWCGrp1,mWCGrp2,mWCGrp3,mWCGrp4,mWCGrp5,mWCGrp6,mWCGrp7,mWCGrp8,mWCGrp9,mWCGrp10=calMedianWordCount4AllGrps(grList,allGpMem)\n",
    "   \n",
    "       \n",
    "    colabGrp1= mWCGrp1/gCGrp1\n",
    "    colabGrp2= mWCGrp2/gCGrp2\n",
    "    colabGrp3= mWCGrp3/gCGrp3\n",
    "    colabGrp4= mWCGrp4/gCGrp4\n",
    "    colabGrp5= mWCGrp5/gCGrp5\n",
    "    colabGrp6= mWCGrp6/gCGrp6\n",
    "    colabGrp7= mWCGrp7/gCGrp7\n",
    "    colabGrp8= mWCGrp8/gCGrp8\n",
    "    colabGrp9= mWCGrp9/gCGrp9\n",
    "    colabGrp10= mWCGrp10/gCGrp10\n",
    "    \n",
    "    #colabGrp5= mWCGrp5/gCGrp5\n",
    "    \n",
    "    return colabGrp1,colabGrp2,colabGrp3,colabGrp4,colabGrp5,colabGrp6,colabGrp7,colabGrp8,colabGrp9,colabGrp10  \n"
   ]
  },
  {
   "cell_type": "code",
   "execution_count": 15,
   "metadata": {},
   "outputs": [
    {
     "data": {
      "image/png": "[encoded data removed]",
      "text/plain": [
       "<matplotlib.figure.Figure at 0xe46b940>"
      ]
     },
     "metadata": {},
     "output_type": "display_data"
    }
   ],
   "source": [
    "fig = plt.figure()\n",
    "def plotcolabLevel(grList,allGpMem):\n",
    "        \n",
    "        Cgrp1,Cgrp2,Cgrp3,Cgrp4,Cgrp5,Cgrp6,Cgrp7,Cgrp8,Cgrp9,Cgrp10= calColabLevel(grList,allGpMem)\n",
    "        \n",
    "\n",
    "        x = ['Group 1', 'Group 2', 'Group 3', 'Group 4','Group 5', 'Group 6', 'Group 7', 'Group 8','Group 9', 'Group 10']\n",
    "        grpL=[Cgrp1,Cgrp2,Cgrp3,Cgrp4,Cgrp5,Cgrp6,Cgrp7,Cgrp8,Cgrp9,Cgrp10]\n",
    "        x_pos = [j for j, _ in enumerate(grpL)]\n",
    "        \n",
    "        N = 10\n",
    "        ind = np.arange(N) \n",
    "        width = 0.1  \n",
    "        \n",
    "\n",
    "        #lt.subplot(2, 1, 1) \n",
    "        barList= plt.bar(x_pos, grpL)\n",
    "        barList[0].set_color('#0000FF')\n",
    "        barList[1].set_color('#A52A2A')\n",
    "        barList[2].set_color('#0000FF')\n",
    "        barList[3].set_color('#A52A2A') \n",
    "        barList[4].set_color('#0000FF')\n",
    "        barList[5].set_color('#A52A2A')\n",
    "        barList[6].set_color('#0000FF')\n",
    "        barList[7].set_color('#A52A2A')\n",
    "        barList[8].set_color('#0000FF')\n",
    "        barList[9].set_color('#A52A2A')\n",
    "        #barList[4].set_color('black')\n",
    "        #plt.xlabel(\"Groups\")\n",
    "        plt.ylabel(\"Model-based measure of Collab. \\n between groups\")\n",
    "        #plt.title(\"Between-groups measure of colabo. &\\n Within-group measure of contrib.\")\n",
    "        plt.xticks(x_pos, x, rotation='vertical')\n",
    "        \n",
    "        \n",
    "        plt.savefig('C:/Users/User/Desktop/NewStudy/measureOfColabBtwnGrps.jpg')\n",
    "        plt.legend(loc='best')\n",
    "        \n",
    "        plt.show()    \n",
    "   \n",
    "\n",
    "\n",
    "#MemberList in groups 1-4\n",
    "m1List = ['cls409','cls410', 'cls411',  'cls412']\n",
    "m2List = ['cls413', 'cls414', 'cls415', 'cls416']\n",
    "m3List = ['cls417','cls418', 'cls419', 'cls420']\n",
    "m4List = ['cls421', 'cls422', 'cls423', 'cls424']\n",
    "m5List = ['cls425','cls426', 'cls427',  'cls428']\n",
    "m6List = ['cls429', 'cls430', 'cls431', 'cls432']\n",
    "m7List = ['cls433','cls434', 'cls435', 'cls436']\n",
    "m8List = ['cls437', 'cls438', 'cls439', 'cls440']\n",
    "m9List = ['cls445','cls446', 'cls447', 'cls448']\n",
    "m10List = ['cls457', 'cls458', 'cls459', 'cls460']\n",
    "\n",
    "all4gMem = [m1List, m2List, m3List, m4List, m5List, m6List, m7List, m8List, m9List, m10List]\n",
    "allGrps = [group1_1, group2_1, group3_1, group4_1, group5_1, group6_1, group7_1, group8_1, group9_1, group10_1]\n",
    "\n",
    "#plotGroupAtTimeIntevals(allGrps,all4gMem, 1)\n",
    " \n",
    "plotcolabLevel(allGrps, all4gMem)"
   ]
  },
  {
   "cell_type": "code",
   "execution_count": null,
   "metadata": {
    "collapsed": true
   },
   "outputs": [],
   "source": []
  }
 ],
 "metadata": {
  "kernelspec": {
   "display_name": "Python 2",
   "language": "python",
   "name": "python2"
  },
  "language_info": {
   "codemirror_mode": {
    "name": "ipython",
    "version": 2
   },
   "file_extension": ".py",
   "mimetype": "text/x-python",
   "name": "python",
   "nbconvert_exporter": "python",
   "pygments_lexer": "ipython2",
   "version": "2.7.13"
  }
 },
 "nbformat": 4,
 "nbformat_minor": 2
}
